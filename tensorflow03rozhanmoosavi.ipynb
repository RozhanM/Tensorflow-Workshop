{
  "nbformat": 4,
  "nbformat_minor": 0,
  "metadata": {
    "colab": {
      "provenance": []
    },
    "kernelspec": {
      "name": "python3",
      "display_name": "Python 3"
    },
    "language_info": {
      "name": "python"
    }
  },
  "cells": [
    {
      "cell_type": "markdown",
      "source": [
        "***Rozhan Moosavi***"
      ],
      "metadata": {
        "id": "z3waCGhe_y3j"
      }
    },
    {
      "cell_type": "code",
      "execution_count": 13,
      "metadata": {
        "id": "cSChsKJm0GWr"
      },
      "outputs": [],
      "source": [
        "import numpy as np\n",
        "import tensorflow as tf\n",
        "import pandas as pd"
      ]
    },
    {
      "cell_type": "markdown",
      "source": [
        "**Linear**"
      ],
      "metadata": {
        "id": "Cfru529z6FIl"
      }
    },
    {
      "cell_type": "code",
      "source": [
        "tf.random.set_seed(50)\n",
        "x = np.arange(30)\n",
        "y = 4 + 3*x\n",
        "x, y"
      ],
      "metadata": {
        "colab": {
          "base_uri": "https://localhost:8080/"
        },
        "id": "dLrsE36S1cmW",
        "outputId": "71fde35f-d025-4cd6-f2c6-85131795aab2"
      },
      "execution_count": 3,
      "outputs": [
        {
          "output_type": "execute_result",
          "data": {
            "text/plain": [
              "(array([ 0,  1,  2,  3,  4,  5,  6,  7,  8,  9, 10, 11, 12, 13, 14, 15, 16,\n",
              "        17, 18, 19, 20, 21, 22, 23, 24, 25, 26, 27, 28, 29]),\n",
              " array([ 4,  7, 10, 13, 16, 19, 22, 25, 28, 31, 34, 37, 40, 43, 46, 49, 52,\n",
              "        55, 58, 61, 64, 67, 70, 73, 76, 79, 82, 85, 88, 91]))"
            ]
          },
          "metadata": {},
          "execution_count": 3
        }
      ]
    },
    {
      "cell_type": "code",
      "source": [
        "model = tf.keras.Sequential([\n",
        "    tf.keras.layers.Dense(3, input_shape = [1]),\n",
        "    tf.keras.layers.Dense(2, activation = \"selu\"),\n",
        "    tf.keras.layers.Dense(1)\n",
        "])"
      ],
      "metadata": {
        "id": "HbazTMb32P6R"
      },
      "execution_count": 5,
      "outputs": []
    },
    {
      "cell_type": "code",
      "source": [
        "model.compile(loss = tf.keras.losses.mae, optimizer = tf.keras.optimizers.Adam(lr = 0.02))"
      ],
      "metadata": {
        "colab": {
          "base_uri": "https://localhost:8080/"
        },
        "id": "yuLCWr1a4jFH",
        "outputId": "5b71f8b1-f2bd-4564-f5f4-0af47428b2d9"
      },
      "execution_count": 6,
      "outputs": [
        {
          "output_type": "stream",
          "name": "stderr",
          "text": [
            "/usr/local/lib/python3.7/dist-packages/keras/optimizers/optimizer_v2/adam.py:110: UserWarning: The `lr` argument is deprecated, use `learning_rate` instead.\n",
            "  super(Adam, self).__init__(name, **kwargs)\n"
          ]
        }
      ]
    },
    {
      "cell_type": "code",
      "source": [
        "model.summary()"
      ],
      "metadata": {
        "colab": {
          "base_uri": "https://localhost:8080/"
        },
        "id": "mwFnTgA55Hqt",
        "outputId": "dce73e49-e7e7-4dc4-e8d8-2740362bba2e"
      },
      "execution_count": 8,
      "outputs": [
        {
          "output_type": "stream",
          "name": "stdout",
          "text": [
            "Model: \"sequential\"\n",
            "_________________________________________________________________\n",
            " Layer (type)                Output Shape              Param #   \n",
            "=================================================================\n",
            " dense (Dense)               (None, 3)                 6         \n",
            "                                                                 \n",
            " dense_1 (Dense)             (None, 2)                 8         \n",
            "                                                                 \n",
            " dense_2 (Dense)             (None, 1)                 3         \n",
            "                                                                 \n",
            "=================================================================\n",
            "Total params: 17\n",
            "Trainable params: 17\n",
            "Non-trainable params: 0\n",
            "_________________________________________________________________\n"
          ]
        }
      ]
    },
    {
      "cell_type": "code",
      "source": [
        "hist = model.fit(x, y, epochs= 100)"
      ],
      "metadata": {
        "colab": {
          "base_uri": "https://localhost:8080/"
        },
        "id": "7081L6Xb5QFD",
        "outputId": "1e9f09f2-2700-4117-cba0-bede4ddda789"
      },
      "execution_count": 10,
      "outputs": [
        {
          "output_type": "stream",
          "name": "stdout",
          "text": [
            "Epoch 1/100\n",
            "1/1 [==============================] - 1s 678ms/step - loss: 51.5391\n",
            "Epoch 2/100\n",
            "1/1 [==============================] - 0s 10ms/step - loss: 51.3868\n",
            "Epoch 3/100\n",
            "1/1 [==============================] - 0s 11ms/step - loss: 51.1974\n",
            "Epoch 4/100\n",
            "1/1 [==============================] - 0s 9ms/step - loss: 50.9274\n",
            "Epoch 5/100\n",
            "1/1 [==============================] - 0s 9ms/step - loss: 50.4690\n",
            "Epoch 6/100\n",
            "1/1 [==============================] - 0s 6ms/step - loss: 49.5462\n",
            "Epoch 7/100\n",
            "1/1 [==============================] - 0s 5ms/step - loss: 48.5060\n",
            "Epoch 8/100\n",
            "1/1 [==============================] - 0s 5ms/step - loss: 47.4642\n",
            "Epoch 9/100\n",
            "1/1 [==============================] - 0s 5ms/step - loss: 46.3581\n",
            "Epoch 10/100\n",
            "1/1 [==============================] - 0s 5ms/step - loss: 45.1820\n",
            "Epoch 11/100\n",
            "1/1 [==============================] - 0s 6ms/step - loss: 43.9306\n",
            "Epoch 12/100\n",
            "1/1 [==============================] - 0s 6ms/step - loss: 42.6012\n",
            "Epoch 13/100\n",
            "1/1 [==============================] - 0s 6ms/step - loss: 41.1919\n",
            "Epoch 14/100\n",
            "1/1 [==============================] - 0s 10ms/step - loss: 39.7004\n",
            "Epoch 15/100\n",
            "1/1 [==============================] - 0s 6ms/step - loss: 38.1245\n",
            "Epoch 16/100\n",
            "1/1 [==============================] - 0s 6ms/step - loss: 36.4612\n",
            "Epoch 17/100\n",
            "1/1 [==============================] - 0s 5ms/step - loss: 34.7073\n",
            "Epoch 18/100\n",
            "1/1 [==============================] - 0s 5ms/step - loss: 32.8591\n",
            "Epoch 19/100\n",
            "1/1 [==============================] - 0s 6ms/step - loss: 30.9128\n",
            "Epoch 20/100\n",
            "1/1 [==============================] - 0s 56ms/step - loss: 28.8641\n",
            "Epoch 21/100\n",
            "1/1 [==============================] - 0s 8ms/step - loss: 26.7084\n",
            "Epoch 22/100\n",
            "1/1 [==============================] - 0s 8ms/step - loss: 24.4407\n",
            "Epoch 23/100\n",
            "1/1 [==============================] - 0s 12ms/step - loss: 22.0558\n",
            "Epoch 24/100\n",
            "1/1 [==============================] - 0s 8ms/step - loss: 19.5478\n",
            "Epoch 25/100\n",
            "1/1 [==============================] - 0s 11ms/step - loss: 16.9101\n",
            "Epoch 26/100\n",
            "1/1 [==============================] - 0s 11ms/step - loss: 14.1357\n",
            "Epoch 27/100\n",
            "1/1 [==============================] - 0s 9ms/step - loss: 11.2153\n",
            "Epoch 28/100\n",
            "1/1 [==============================] - 0s 6ms/step - loss: 8.1371\n",
            "Epoch 29/100\n",
            "1/1 [==============================] - 0s 6ms/step - loss: 4.8840\n",
            "Epoch 30/100\n",
            "1/1 [==============================] - 0s 7ms/step - loss: 1.4284\n",
            "Epoch 31/100\n",
            "1/1 [==============================] - 0s 7ms/step - loss: 2.3402\n",
            "Epoch 32/100\n",
            "1/1 [==============================] - 0s 8ms/step - loss: 4.8820\n",
            "Epoch 33/100\n",
            "1/1 [==============================] - 0s 9ms/step - loss: 6.5546\n",
            "Epoch 34/100\n",
            "1/1 [==============================] - 0s 6ms/step - loss: 7.5098\n",
            "Epoch 35/100\n",
            "1/1 [==============================] - 0s 9ms/step - loss: 7.8508\n",
            "Epoch 36/100\n",
            "1/1 [==============================] - 0s 12ms/step - loss: 7.6599\n",
            "Epoch 37/100\n",
            "1/1 [==============================] - 0s 7ms/step - loss: 7.0159\n",
            "Epoch 38/100\n",
            "1/1 [==============================] - 0s 7ms/step - loss: 5.9970\n",
            "Epoch 39/100\n",
            "1/1 [==============================] - 0s 7ms/step - loss: 4.6863\n",
            "Epoch 40/100\n",
            "1/1 [==============================] - 0s 7ms/step - loss: 3.1751\n",
            "Epoch 41/100\n",
            "1/1 [==============================] - 0s 7ms/step - loss: 1.6211\n",
            "Epoch 42/100\n",
            "1/1 [==============================] - 0s 7ms/step - loss: 0.6563\n",
            "Epoch 43/100\n",
            "1/1 [==============================] - 0s 7ms/step - loss: 2.0699\n",
            "Epoch 44/100\n",
            "1/1 [==============================] - 0s 7ms/step - loss: 3.0788\n",
            "Epoch 45/100\n",
            "1/1 [==============================] - 0s 7ms/step - loss: 3.6263\n",
            "Epoch 46/100\n",
            "1/1 [==============================] - 0s 8ms/step - loss: 3.7781\n",
            "Epoch 47/100\n",
            "1/1 [==============================] - 0s 8ms/step - loss: 3.5833\n",
            "Epoch 48/100\n",
            "1/1 [==============================] - 0s 8ms/step - loss: 3.0787\n",
            "Epoch 49/100\n",
            "1/1 [==============================] - 0s 9ms/step - loss: 2.2917\n",
            "Epoch 50/100\n",
            "1/1 [==============================] - 0s 7ms/step - loss: 1.2427\n",
            "Epoch 51/100\n",
            "1/1 [==============================] - 0s 7ms/step - loss: 0.7144\n",
            "Epoch 52/100\n",
            "1/1 [==============================] - 0s 7ms/step - loss: 1.3799\n",
            "Epoch 53/100\n",
            "1/1 [==============================] - 0s 7ms/step - loss: 1.8985\n",
            "Epoch 54/100\n",
            "1/1 [==============================] - 0s 9ms/step - loss: 2.1035\n",
            "Epoch 55/100\n",
            "1/1 [==============================] - 0s 8ms/step - loss: 1.9912\n",
            "Epoch 56/100\n",
            "1/1 [==============================] - 0s 9ms/step - loss: 1.6113\n",
            "Epoch 57/100\n",
            "1/1 [==============================] - 0s 10ms/step - loss: 1.0504\n",
            "Epoch 58/100\n",
            "1/1 [==============================] - 0s 9ms/step - loss: 0.5406\n",
            "Epoch 59/100\n",
            "1/1 [==============================] - 0s 9ms/step - loss: 1.0095\n",
            "Epoch 60/100\n",
            "1/1 [==============================] - 0s 8ms/step - loss: 1.4430\n",
            "Epoch 61/100\n",
            "1/1 [==============================] - 0s 8ms/step - loss: 1.4970\n",
            "Epoch 62/100\n",
            "1/1 [==============================] - 0s 8ms/step - loss: 1.2144\n",
            "Epoch 63/100\n",
            "1/1 [==============================] - 0s 8ms/step - loss: 0.6277\n",
            "Epoch 64/100\n",
            "1/1 [==============================] - 0s 8ms/step - loss: 0.5934\n",
            "Epoch 65/100\n",
            "1/1 [==============================] - 0s 8ms/step - loss: 0.9864\n",
            "Epoch 66/100\n",
            "1/1 [==============================] - 0s 9ms/step - loss: 1.1744\n",
            "Epoch 67/100\n",
            "1/1 [==============================] - 0s 8ms/step - loss: 1.0989\n",
            "Epoch 68/100\n",
            "1/1 [==============================] - 0s 10ms/step - loss: 0.7922\n",
            "Epoch 69/100\n",
            "1/1 [==============================] - 0s 9ms/step - loss: 0.4026\n",
            "Epoch 70/100\n",
            "1/1 [==============================] - 0s 8ms/step - loss: 0.6083\n",
            "Epoch 71/100\n",
            "1/1 [==============================] - 0s 9ms/step - loss: 0.8668\n",
            "Epoch 72/100\n",
            "1/1 [==============================] - 0s 9ms/step - loss: 0.7712\n",
            "Epoch 73/100\n",
            "1/1 [==============================] - 0s 8ms/step - loss: 0.3580\n",
            "Epoch 74/100\n",
            "1/1 [==============================] - 0s 9ms/step - loss: 0.4886\n",
            "Epoch 75/100\n",
            "1/1 [==============================] - 0s 8ms/step - loss: 0.8076\n",
            "Epoch 76/100\n",
            "1/1 [==============================] - 0s 17ms/step - loss: 0.8729\n",
            "Epoch 77/100\n",
            "1/1 [==============================] - 0s 9ms/step - loss: 0.6589\n",
            "Epoch 78/100\n",
            "1/1 [==============================] - 0s 9ms/step - loss: 0.2897\n",
            "Epoch 79/100\n",
            "1/1 [==============================] - 0s 9ms/step - loss: 0.5126\n",
            "Epoch 80/100\n",
            "1/1 [==============================] - 0s 9ms/step - loss: 0.7352\n",
            "Epoch 81/100\n",
            "1/1 [==============================] - 0s 10ms/step - loss: 0.6175\n",
            "Epoch 82/100\n",
            "1/1 [==============================] - 0s 9ms/step - loss: 0.2052\n",
            "Epoch 83/100\n",
            "1/1 [==============================] - 0s 9ms/step - loss: 0.4264\n",
            "Epoch 84/100\n",
            "1/1 [==============================] - 0s 8ms/step - loss: 0.6300\n",
            "Epoch 85/100\n",
            "1/1 [==============================] - 0s 8ms/step - loss: 0.4933\n",
            "Epoch 86/100\n",
            "1/1 [==============================] - 0s 12ms/step - loss: 0.1771\n",
            "Epoch 87/100\n",
            "1/1 [==============================] - 0s 8ms/step - loss: 0.5072\n",
            "Epoch 88/100\n",
            "1/1 [==============================] - 0s 8ms/step - loss: 0.6460\n",
            "Epoch 89/100\n",
            "1/1 [==============================] - 0s 8ms/step - loss: 0.4633\n",
            "Epoch 90/100\n",
            "1/1 [==============================] - 0s 8ms/step - loss: 0.1645\n",
            "Epoch 91/100\n",
            "1/1 [==============================] - 0s 8ms/step - loss: 0.3785\n",
            "Epoch 92/100\n",
            "1/1 [==============================] - 0s 8ms/step - loss: 0.3115\n",
            "Epoch 93/100\n",
            "1/1 [==============================] - 0s 16ms/step - loss: 0.1394\n",
            "Epoch 94/100\n",
            "1/1 [==============================] - 0s 9ms/step - loss: 0.3207\n",
            "Epoch 95/100\n",
            "1/1 [==============================] - 0s 9ms/step - loss: 0.1980\n",
            "Epoch 96/100\n",
            "1/1 [==============================] - 0s 11ms/step - loss: 0.3098\n",
            "Epoch 97/100\n",
            "1/1 [==============================] - 0s 11ms/step - loss: 0.3661\n",
            "Epoch 98/100\n",
            "1/1 [==============================] - 0s 9ms/step - loss: 0.1420\n",
            "Epoch 99/100\n",
            "1/1 [==============================] - 0s 7ms/step - loss: 0.3859\n",
            "Epoch 100/100\n",
            "1/1 [==============================] - 0s 7ms/step - loss: 0.4322\n"
          ]
        }
      ]
    },
    {
      "cell_type": "code",
      "source": [
        "pd.DataFrame(hist.history).plot()"
      ],
      "metadata": {
        "colab": {
          "base_uri": "https://localhost:8080/",
          "height": 282
        },
        "id": "Xp2yz0dN5m0-",
        "outputId": "bd7629d8-e84d-4fbb-febf-db8e85f55b27"
      },
      "execution_count": 11,
      "outputs": [
        {
          "output_type": "execute_result",
          "data": {
            "text/plain": [
              "<matplotlib.axes._subplots.AxesSubplot at 0x7f61a679e610>"
            ]
          },
          "metadata": {},
          "execution_count": 11
        },
        {
          "output_type": "display_data",
          "data": {
            "text/plain": [
              "<Figure size 432x288 with 1 Axes>"
            ],
            "image/png": "[encoded data removed]"
          },
          "metadata": {
            "needs_background": "light"
          }
        }
      ]
    },
    {
      "cell_type": "code",
      "source": [
        "model.predict([120])"
      ],
      "metadata": {
        "colab": {
          "base_uri": "https://localhost:8080/"
        },
        "id": "blHOIfrl5ztq",
        "outputId": "fd757b1d-7e8a-4a19-d8cf-86384bd87ca5"
      },
      "execution_count": 12,
      "outputs": [
        {
          "output_type": "stream",
          "name": "stdout",
          "text": [
            "1/1 [==============================] - 0s 113ms/step\n"
          ]
        },
        {
          "output_type": "execute_result",
          "data": {
            "text/plain": [
              "array([[365.02103]], dtype=float32)"
            ]
          },
          "metadata": {},
          "execution_count": 12
        }
      ]
    },
    {
      "cell_type": "markdown",
      "source": [
        "**Non Linear**"
      ],
      "metadata": {
        "id": "Nbewp-rN6Ngz"
      }
    },
    {
      "cell_type": "code",
      "source": [
        "tf.random.set_seed(40)\n",
        "x = np.arange(30)\n",
        "y = 24 + x ** 2 "
      ],
      "metadata": {
        "id": "ZxojPACA6SLO"
      },
      "execution_count": 14,
      "outputs": []
    },
    {
      "cell_type": "code",
      "source": [
        "model = tf.keras.Sequential([\n",
        "    tf.keras.layers.Dense(10, input_shape= [1]),\n",
        "    tf.keras.layers.Dense(10, activation = 'selu' , bias_regularizer = tf.keras.regularizers.L2(l2 = 0.01)),\n",
        "    tf.keras.layers.Dense(1)\n",
        "    \n",
        "])"
      ],
      "metadata": {
        "id": "VUei4uUs7imE"
      },
      "execution_count": 33,
      "outputs": []
    },
    {
      "cell_type": "code",
      "source": [
        "model.compile(loss= tf.keras.losses.mae, optimizer= tf.keras.optimizers.Adam(lr = 0.01))"
      ],
      "metadata": {
        "id": "UyHPlI39-Ix4"
      },
      "execution_count": 34,
      "outputs": []
    },
    {
      "cell_type": "code",
      "source": [
        "hist = model.fit(x, y, epochs = 150)"
      ],
      "metadata": {
        "colab": {
          "base_uri": "https://localhost:8080/"
        },
        "id": "hSJJ69Bz-fCp",
        "outputId": "776a4b24-f075-477f-b1e7-f09cde3ba621"
      },
      "execution_count": 35,
      "outputs": [
        {
          "output_type": "stream",
          "name": "stdout",
          "text": [
            "Epoch 1/150\n",
            "1/1 [==============================] - 0s 490ms/step - loss: 312.3602\n",
            "Epoch 2/150\n",
            "1/1 [==============================] - 0s 11ms/step - loss: 310.1620\n",
            "Epoch 3/150\n",
            "1/1 [==============================] - 0s 8ms/step - loss: 308.1581\n",
            "Epoch 4/150\n",
            "1/1 [==============================] - 0s 8ms/step - loss: 306.2578\n",
            "Epoch 5/150\n",
            "1/1 [==============================] - 0s 8ms/step - loss: 304.5006\n",
            "Epoch 6/150\n",
            "1/1 [==============================] - 0s 8ms/step - loss: 302.7643\n",
            "Epoch 7/150\n",
            "1/1 [==============================] - 0s 8ms/step - loss: 300.8986\n",
            "Epoch 8/150\n",
            "1/1 [==============================] - 0s 8ms/step - loss: 298.9942\n",
            "Epoch 9/150\n",
            "1/1 [==============================] - 0s 8ms/step - loss: 297.0796\n",
            "Epoch 10/150\n",
            "1/1 [==============================] - 0s 9ms/step - loss: 295.0930\n",
            "Epoch 11/150\n",
            "1/1 [==============================] - 0s 10ms/step - loss: 292.9911\n",
            "Epoch 12/150\n",
            "1/1 [==============================] - 0s 11ms/step - loss: 290.6859\n",
            "Epoch 13/150\n",
            "1/1 [==============================] - 0s 13ms/step - loss: 288.0932\n",
            "Epoch 14/150\n",
            "1/1 [==============================] - 0s 8ms/step - loss: 285.3061\n",
            "Epoch 15/150\n",
            "1/1 [==============================] - 0s 11ms/step - loss: 282.4284\n",
            "Epoch 16/150\n",
            "1/1 [==============================] - 0s 8ms/step - loss: 279.4392\n",
            "Epoch 17/150\n",
            "1/1 [==============================] - 0s 7ms/step - loss: 276.3083\n",
            "Epoch 18/150\n",
            "1/1 [==============================] - 0s 7ms/step - loss: 273.0167\n",
            "Epoch 19/150\n",
            "1/1 [==============================] - 0s 11ms/step - loss: 269.5433\n",
            "Epoch 20/150\n",
            "1/1 [==============================] - 0s 7ms/step - loss: 265.8675\n",
            "Epoch 21/150\n",
            "1/1 [==============================] - 0s 7ms/step - loss: 261.9698\n",
            "Epoch 22/150\n",
            "1/1 [==============================] - 0s 10ms/step - loss: 257.8316\n",
            "Epoch 23/150\n",
            "1/1 [==============================] - 0s 8ms/step - loss: 253.4339\n",
            "Epoch 24/150\n",
            "1/1 [==============================] - 0s 8ms/step - loss: 248.7570\n",
            "Epoch 25/150\n",
            "1/1 [==============================] - 0s 9ms/step - loss: 243.7796\n",
            "Epoch 26/150\n",
            "1/1 [==============================] - 0s 8ms/step - loss: 238.4790\n",
            "Epoch 27/150\n",
            "1/1 [==============================] - 0s 10ms/step - loss: 232.8308\n",
            "Epoch 28/150\n",
            "1/1 [==============================] - 0s 9ms/step - loss: 226.8092\n",
            "Epoch 29/150\n",
            "1/1 [==============================] - 0s 9ms/step - loss: 220.3869\n",
            "Epoch 30/150\n",
            "1/1 [==============================] - 0s 9ms/step - loss: 213.5356\n",
            "Epoch 31/150\n",
            "1/1 [==============================] - 0s 9ms/step - loss: 206.2265\n",
            "Epoch 32/150\n",
            "1/1 [==============================] - 0s 9ms/step - loss: 198.4297\n",
            "Epoch 33/150\n",
            "1/1 [==============================] - 0s 9ms/step - loss: 190.1152\n",
            "Epoch 34/150\n",
            "1/1 [==============================] - 0s 8ms/step - loss: 181.3652\n",
            "Epoch 35/150\n",
            "1/1 [==============================] - 0s 8ms/step - loss: 172.6492\n",
            "Epoch 36/150\n",
            "1/1 [==============================] - 0s 9ms/step - loss: 163.7718\n",
            "Epoch 37/150\n",
            "1/1 [==============================] - 0s 9ms/step - loss: 154.8812\n",
            "Epoch 38/150\n",
            "1/1 [==============================] - 0s 8ms/step - loss: 145.9474\n",
            "Epoch 39/150\n",
            "1/1 [==============================] - 0s 10ms/step - loss: 137.0446\n",
            "Epoch 40/150\n",
            "1/1 [==============================] - 0s 10ms/step - loss: 128.2776\n",
            "Epoch 41/150\n",
            "1/1 [==============================] - 0s 10ms/step - loss: 119.7717\n",
            "Epoch 42/150\n",
            "1/1 [==============================] - 0s 8ms/step - loss: 111.7354\n",
            "Epoch 43/150\n",
            "1/1 [==============================] - 0s 12ms/step - loss: 104.3066\n",
            "Epoch 44/150\n",
            "1/1 [==============================] - 0s 8ms/step - loss: 97.6195\n",
            "Epoch 45/150\n",
            "1/1 [==============================] - 0s 16ms/step - loss: 91.8475\n",
            "Epoch 46/150\n",
            "1/1 [==============================] - 0s 10ms/step - loss: 87.1570\n",
            "Epoch 47/150\n",
            "1/1 [==============================] - 0s 12ms/step - loss: 83.6926\n",
            "Epoch 48/150\n",
            "1/1 [==============================] - 0s 13ms/step - loss: 81.5540\n",
            "Epoch 49/150\n",
            "1/1 [==============================] - 0s 12ms/step - loss: 80.7651\n",
            "Epoch 50/150\n",
            "1/1 [==============================] - 0s 9ms/step - loss: 81.2318\n",
            "Epoch 51/150\n",
            "1/1 [==============================] - 0s 14ms/step - loss: 82.6901\n",
            "Epoch 52/150\n",
            "1/1 [==============================] - 0s 8ms/step - loss: 84.6501\n",
            "Epoch 53/150\n",
            "1/1 [==============================] - 0s 9ms/step - loss: 86.8245\n",
            "Epoch 54/150\n",
            "1/1 [==============================] - 0s 8ms/step - loss: 88.5447\n",
            "Epoch 55/150\n",
            "1/1 [==============================] - 0s 9ms/step - loss: 89.6927\n",
            "Epoch 56/150\n",
            "1/1 [==============================] - 0s 9ms/step - loss: 89.9024\n",
            "Epoch 57/150\n",
            "1/1 [==============================] - 0s 9ms/step - loss: 89.2834\n",
            "Epoch 58/150\n",
            "1/1 [==============================] - 0s 9ms/step - loss: 87.9440\n",
            "Epoch 59/150\n",
            "1/1 [==============================] - 0s 11ms/step - loss: 86.3929\n",
            "Epoch 60/150\n",
            "1/1 [==============================] - 0s 12ms/step - loss: 84.7216\n",
            "Epoch 61/150\n",
            "1/1 [==============================] - 0s 10ms/step - loss: 82.9864\n",
            "Epoch 62/150\n",
            "1/1 [==============================] - 0s 15ms/step - loss: 81.7603\n",
            "Epoch 63/150\n",
            "1/1 [==============================] - 0s 9ms/step - loss: 80.5210\n",
            "Epoch 64/150\n",
            "1/1 [==============================] - 0s 9ms/step - loss: 79.9689\n",
            "Epoch 65/150\n",
            "1/1 [==============================] - 0s 9ms/step - loss: 79.4426\n",
            "Epoch 66/150\n",
            "1/1 [==============================] - 0s 9ms/step - loss: 79.2693\n",
            "Epoch 67/150\n",
            "1/1 [==============================] - 0s 10ms/step - loss: 79.2855\n",
            "Epoch 68/150\n",
            "1/1 [==============================] - 0s 9ms/step - loss: 79.2877\n",
            "Epoch 69/150\n",
            "1/1 [==============================] - 0s 11ms/step - loss: 79.4782\n",
            "Epoch 70/150\n",
            "1/1 [==============================] - 0s 9ms/step - loss: 79.7104\n",
            "Epoch 71/150\n",
            "1/1 [==============================] - 0s 9ms/step - loss: 79.8532\n",
            "Epoch 72/150\n",
            "1/1 [==============================] - 0s 9ms/step - loss: 79.9156\n",
            "Epoch 73/150\n",
            "1/1 [==============================] - 0s 11ms/step - loss: 79.9053\n",
            "Epoch 74/150\n",
            "1/1 [==============================] - 0s 8ms/step - loss: 79.8289\n",
            "Epoch 75/150\n",
            "1/1 [==============================] - 0s 9ms/step - loss: 79.6920\n",
            "Epoch 76/150\n",
            "1/1 [==============================] - 0s 9ms/step - loss: 79.4992\n",
            "Epoch 77/150\n",
            "1/1 [==============================] - 0s 9ms/step - loss: 79.2548\n",
            "Epoch 78/150\n",
            "1/1 [==============================] - 0s 9ms/step - loss: 78.9622\n",
            "Epoch 79/150\n",
            "1/1 [==============================] - 0s 11ms/step - loss: 78.6243\n",
            "Epoch 80/150\n",
            "1/1 [==============================] - 0s 7ms/step - loss: 78.2438\n",
            "Epoch 81/150\n",
            "1/1 [==============================] - 0s 8ms/step - loss: 77.8909\n",
            "Epoch 82/150\n",
            "1/1 [==============================] - 0s 14ms/step - loss: 77.7083\n",
            "Epoch 83/150\n",
            "1/1 [==============================] - 0s 9ms/step - loss: 77.5263\n",
            "Epoch 84/150\n",
            "1/1 [==============================] - 0s 7ms/step - loss: 77.3448\n",
            "Epoch 85/150\n",
            "1/1 [==============================] - 0s 8ms/step - loss: 77.1633\n",
            "Epoch 86/150\n",
            "1/1 [==============================] - 0s 9ms/step - loss: 76.9817\n",
            "Epoch 87/150\n",
            "1/1 [==============================] - 0s 9ms/step - loss: 76.8495\n",
            "Epoch 88/150\n",
            "1/1 [==============================] - 0s 10ms/step - loss: 76.8358\n",
            "Epoch 89/150\n",
            "1/1 [==============================] - 0s 9ms/step - loss: 76.7884\n",
            "Epoch 90/150\n",
            "1/1 [==============================] - 0s 10ms/step - loss: 76.7107\n",
            "Epoch 91/150\n",
            "1/1 [==============================] - 0s 30ms/step - loss: 76.6064\n",
            "Epoch 92/150\n",
            "1/1 [==============================] - 0s 11ms/step - loss: 76.4774\n",
            "Epoch 93/150\n",
            "1/1 [==============================] - 0s 12ms/step - loss: 76.3270\n",
            "Epoch 94/150\n",
            "1/1 [==============================] - 0s 18ms/step - loss: 76.1779\n",
            "Epoch 95/150\n",
            "1/1 [==============================] - 0s 10ms/step - loss: 76.0202\n",
            "Epoch 96/150\n",
            "1/1 [==============================] - 0s 10ms/step - loss: 75.8510\n",
            "Epoch 97/150\n",
            "1/1 [==============================] - 0s 9ms/step - loss: 75.7210\n",
            "Epoch 98/150\n",
            "1/1 [==============================] - 0s 10ms/step - loss: 75.6627\n",
            "Epoch 99/150\n",
            "1/1 [==============================] - 0s 9ms/step - loss: 75.5939\n",
            "Epoch 100/150\n",
            "1/1 [==============================] - 0s 15ms/step - loss: 75.5156\n",
            "Epoch 101/150\n",
            "1/1 [==============================] - 0s 16ms/step - loss: 75.4284\n",
            "Epoch 102/150\n",
            "1/1 [==============================] - 0s 10ms/step - loss: 75.3328\n",
            "Epoch 103/150\n",
            "1/1 [==============================] - 0s 9ms/step - loss: 75.2310\n",
            "Epoch 104/150\n",
            "1/1 [==============================] - 0s 9ms/step - loss: 75.1220\n",
            "Epoch 105/150\n",
            "1/1 [==============================] - 0s 10ms/step - loss: 75.0059\n",
            "Epoch 106/150\n",
            "1/1 [==============================] - 0s 11ms/step - loss: 74.8830\n",
            "Epoch 107/150\n",
            "1/1 [==============================] - 0s 13ms/step - loss: 74.7537\n",
            "Epoch 108/150\n",
            "1/1 [==============================] - 0s 8ms/step - loss: 74.6756\n",
            "Epoch 109/150\n",
            "1/1 [==============================] - 0s 9ms/step - loss: 74.6101\n",
            "Epoch 110/150\n",
            "1/1 [==============================] - 0s 9ms/step - loss: 74.5224\n",
            "Epoch 111/150\n",
            "1/1 [==============================] - 0s 9ms/step - loss: 74.4147\n",
            "Epoch 112/150\n",
            "1/1 [==============================] - 0s 9ms/step - loss: 74.2889\n",
            "Epoch 113/150\n",
            "1/1 [==============================] - 0s 9ms/step - loss: 74.1470\n",
            "Epoch 114/150\n",
            "1/1 [==============================] - 0s 9ms/step - loss: 74.0812\n",
            "Epoch 115/150\n",
            "1/1 [==============================] - 0s 12ms/step - loss: 74.0055\n",
            "Epoch 116/150\n",
            "1/1 [==============================] - 0s 10ms/step - loss: 73.9173\n",
            "Epoch 117/150\n",
            "1/1 [==============================] - 0s 10ms/step - loss: 73.8176\n",
            "Epoch 118/150\n",
            "1/1 [==============================] - 0s 9ms/step - loss: 73.7071\n",
            "Epoch 119/150\n",
            "1/1 [==============================] - 0s 15ms/step - loss: 73.5866\n",
            "Epoch 120/150\n",
            "1/1 [==============================] - 0s 10ms/step - loss: 73.4566\n",
            "Epoch 121/150\n",
            "1/1 [==============================] - 0s 10ms/step - loss: 73.3178\n",
            "Epoch 122/150\n",
            "1/1 [==============================] - 0s 10ms/step - loss: 73.2394\n",
            "Epoch 123/150\n",
            "1/1 [==============================] - 0s 9ms/step - loss: 73.1579\n",
            "Epoch 124/150\n",
            "1/1 [==============================] - 0s 12ms/step - loss: 73.0549\n",
            "Epoch 125/150\n",
            "1/1 [==============================] - 0s 14ms/step - loss: 72.9324\n",
            "Epoch 126/150\n",
            "1/1 [==============================] - 0s 74ms/step - loss: 72.7926\n",
            "Epoch 127/150\n",
            "1/1 [==============================] - 0s 20ms/step - loss: 72.6486\n",
            "Epoch 128/150\n",
            "1/1 [==============================] - 0s 11ms/step - loss: 72.5538\n",
            "Epoch 129/150\n",
            "1/1 [==============================] - 0s 11ms/step - loss: 72.4452\n",
            "Epoch 130/150\n",
            "1/1 [==============================] - 0s 10ms/step - loss: 72.3237\n",
            "Epoch 131/150\n",
            "1/1 [==============================] - 0s 10ms/step - loss: 72.1901\n",
            "Epoch 132/150\n",
            "1/1 [==============================] - 0s 10ms/step - loss: 72.0842\n",
            "Epoch 133/150\n",
            "1/1 [==============================] - 0s 11ms/step - loss: 71.9767\n",
            "Epoch 134/150\n",
            "1/1 [==============================] - 0s 11ms/step - loss: 71.8498\n",
            "Epoch 135/150\n",
            "1/1 [==============================] - 0s 10ms/step - loss: 71.7054\n",
            "Epoch 136/150\n",
            "1/1 [==============================] - 0s 16ms/step - loss: 71.6091\n",
            "Epoch 137/150\n",
            "1/1 [==============================] - 0s 9ms/step - loss: 71.5023\n",
            "Epoch 138/150\n",
            "1/1 [==============================] - 0s 10ms/step - loss: 71.3801\n",
            "Epoch 139/150\n",
            "1/1 [==============================] - 0s 9ms/step - loss: 71.2430\n",
            "Epoch 140/150\n",
            "1/1 [==============================] - 0s 9ms/step - loss: 71.0926\n",
            "Epoch 141/150\n",
            "1/1 [==============================] - 0s 14ms/step - loss: 70.9632\n",
            "Epoch 142/150\n",
            "1/1 [==============================] - 0s 17ms/step - loss: 70.8467\n",
            "Epoch 143/150\n",
            "1/1 [==============================] - 0s 9ms/step - loss: 70.7074\n",
            "Epoch 144/150\n",
            "1/1 [==============================] - 0s 9ms/step - loss: 70.5450\n",
            "Epoch 145/150\n",
            "1/1 [==============================] - 0s 9ms/step - loss: 70.3926\n",
            "Epoch 146/150\n",
            "1/1 [==============================] - 0s 10ms/step - loss: 70.2391\n",
            "Epoch 147/150\n",
            "1/1 [==============================] - 0s 65ms/step - loss: 70.0712\n",
            "Epoch 148/150\n",
            "1/1 [==============================] - 0s 52ms/step - loss: 69.9442\n",
            "Epoch 149/150\n",
            "1/1 [==============================] - 0s 70ms/step - loss: 69.7942\n",
            "Epoch 150/150\n",
            "1/1 [==============================] - 0s 20ms/step - loss: 69.6725\n"
          ]
        }
      ]
    },
    {
      "cell_type": "code",
      "source": [
        "pd.DataFrame(hist.history).plot()"
      ],
      "metadata": {
        "colab": {
          "base_uri": "https://localhost:8080/",
          "height": 282
        },
        "id": "KpztG03t_hVl",
        "outputId": "ed997c46-13ea-4293-da18-f45d5298c43e"
      },
      "execution_count": 36,
      "outputs": [
        {
          "output_type": "execute_result",
          "data": {
            "text/plain": [
              "<matplotlib.axes._subplots.AxesSubplot at 0x7f61991f9cd0>"
            ]
          },
          "metadata": {},
          "execution_count": 36
        },
        {
          "output_type": "display_data",
          "data": {
            "text/plain": [
              "<Figure size 432x288 with 1 Axes>"
            ],
            "image/png": "[encoded data removed]"
          },
          "metadata": {
            "needs_background": "light"
          }
        }
      ]
    },
    {
      "cell_type": "code",
      "source": [
        "model.predict([60])"
      ],
      "metadata": {
        "colab": {
          "base_uri": "https://localhost:8080/"
        },
        "id": "HvWSbtNz_rgz",
        "outputId": "3c4186a4-57b8-4047-e61d-67a35fda7d12"
      },
      "execution_count": 37,
      "outputs": [
        {
          "output_type": "stream",
          "name": "stdout",
          "text": [
            "1/1 [==============================] - 0s 66ms/step\n"
          ]
        },
        {
          "output_type": "execute_result",
          "data": {
            "text/plain": [
              "array([[1364.3184]], dtype=float32)"
            ]
          },
          "metadata": {},
          "execution_count": 37
        }
      ]
    }
  ]
}