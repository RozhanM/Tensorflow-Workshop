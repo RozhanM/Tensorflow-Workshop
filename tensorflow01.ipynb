{
 "cells": [
  {
   "cell_type": "markdown",
   "id": "f07997bb",
   "metadata": {},
   "source": [
    "Rozhan Moosavi"
   ]
  },
  {
   "cell_type": "code",
   "execution_count": 4,
   "id": "aae32168",
   "metadata": {},
   "outputs": [],
   "source": [
    "import numpy as np"
   ]
  },
  {
   "cell_type": "markdown",
   "id": "5fa26d0c",
   "metadata": {},
   "source": [
    "making an array"
   ]
  },
  {
   "cell_type": "code",
   "execution_count": 5,
   "id": "80cf787c",
   "metadata": {},
   "outputs": [
    {
     "data": {
      "text/plain": [
       "array([1, 2, 3])"
      ]
     },
     "execution_count": 5,
     "metadata": {},
     "output_type": "execute_result"
    }
   ],
   "source": [
    "a = np.array([1, 2, 3])\n",
    "a"
   ]
  },
  {
   "cell_type": "code",
   "execution_count": 18,
   "id": "363830c2",
   "metadata": {},
   "outputs": [
    {
     "data": {
      "text/plain": [
       "array([ 0,  1,  2,  3,  4,  5,  6,  7,  8,  9, 10, 11])"
      ]
     },
     "execution_count": 18,
     "metadata": {},
     "output_type": "execute_result"
    }
   ],
   "source": [
    "b = np.arange(12)\n",
    "b"
   ]
  },
  {
   "cell_type": "code",
   "execution_count": 7,
   "id": "74cfd14f",
   "metadata": {},
   "outputs": [
    {
     "data": {
      "text/plain": [
       "array([10, 12, 14, 16, 18])"
      ]
     },
     "execution_count": 7,
     "metadata": {},
     "output_type": "execute_result"
    }
   ],
   "source": [
    "c = np.arange(10, 20, 2)\n",
    "c"
   ]
  },
  {
   "cell_type": "markdown",
   "id": "dd705394",
   "metadata": {},
   "source": [
    "making a random array"
   ]
  },
  {
   "cell_type": "code",
   "execution_count": 17,
   "id": "7e217eb0",
   "metadata": {},
   "outputs": [
    {
     "data": {
      "text/plain": [
       "array([[ 4, 13, 18],\n",
       "       [ 1,  4, 14],\n",
       "       [10,  9, 14]])"
      ]
     },
     "execution_count": 17,
     "metadata": {},
     "output_type": "execute_result"
    }
   ],
   "source": [
    "d = np.random.randint(0, 20, (3,3))\n",
    "d"
   ]
  },
  {
   "cell_type": "markdown",
   "id": "b7b13819",
   "metadata": {},
   "source": [
    "shape & size"
   ]
  },
  {
   "cell_type": "code",
   "execution_count": 19,
   "id": "daee2c14",
   "metadata": {},
   "outputs": [
    {
     "name": "stdout",
     "output_type": "stream",
     "text": [
      "shape of array : (12,)\n",
      "size of array : 12\n",
      "length of array : 12\n"
     ]
    }
   ],
   "source": [
    "print('shape of array :' , b.shape)\n",
    "print('size of array :' , np.size(b))\n",
    "print('length of array :' , len(b))"
   ]
  },
  {
   "cell_type": "markdown",
   "id": "0cac6838",
   "metadata": {},
   "source": [
    "reshaping an array"
   ]
  },
  {
   "cell_type": "code",
   "execution_count": 21,
   "id": "fc3b609e",
   "metadata": {},
   "outputs": [
    {
     "data": {
      "text/plain": [
       "array([[ 0,  1,  2,  3],\n",
       "       [ 4,  5,  6,  7],\n",
       "       [ 8,  9, 10, 11]])"
      ]
     },
     "execution_count": 21,
     "metadata": {},
     "output_type": "execute_result"
    }
   ],
   "source": [
    "b_reshaped = b.reshape(3,4)\n",
    "b_reshaped"
   ]
  },
  {
   "cell_type": "code",
   "execution_count": 22,
   "id": "082d1172",
   "metadata": {},
   "outputs": [
    {
     "name": "stdout",
     "output_type": "stream",
     "text": [
      "shape of the reshaped array : (3, 4)\n",
      "size of the reshaped array : 12\n",
      "length of the reshaped array : 3\n"
     ]
    }
   ],
   "source": [
    "print('shape of the reshaped array :' , b_reshaped.shape)\n",
    "print('size of the reshaped array :' , np.size(b_reshaped))\n",
    "print('length of the reshaped array :' , len(b_reshaped))"
   ]
  },
  {
   "cell_type": "markdown",
   "id": "e275c096",
   "metadata": {},
   "source": [
    "martix"
   ]
  },
  {
   "cell_type": "code",
   "execution_count": 26,
   "id": "1ce3d771",
   "metadata": {},
   "outputs": [
    {
     "data": {
      "text/latex": [
       "$\\displaystyle \\left[\\begin{matrix}0 & 1 & 2 & 3\\\\4 & 5 & 6 & 7\\\\8 & 9 & 10 & 11\\end{matrix}\\right]$"
      ],
      "text/plain": [
       "Matrix([\n",
       "[0, 1,  2,  3],\n",
       "[4, 5,  6,  7],\n",
       "[8, 9, 10, 11]])"
      ]
     },
     "execution_count": 26,
     "metadata": {},
     "output_type": "execute_result"
    }
   ],
   "source": [
    "from sympy import *\n",
    "Matrix(b_reshaped)"
   ]
  },
  {
   "cell_type": "code",
   "execution_count": 27,
   "id": "ece07583",
   "metadata": {},
   "outputs": [
    {
     "data": {
      "text/plain": [
       "array([[[ 0,  1,  2],\n",
       "        [ 3,  4,  5]],\n",
       "\n",
       "       [[ 6,  7,  8],\n",
       "        [ 9, 10, 11]]])"
      ]
     },
     "execution_count": 27,
     "metadata": {},
     "output_type": "execute_result"
    }
   ],
   "source": [
    "matrix = b.reshape(2,2,3)\n",
    "matrix"
   ]
  },
  {
   "cell_type": "code",
   "execution_count": 30,
   "id": "ef4d338e",
   "metadata": {},
   "outputs": [
    {
     "data": {
      "text/latex": [
       "$\\displaystyle \\left[\\begin{matrix}\\left[ 0, \\  1, \\  2\\right] & \\left[ 3, \\  4, \\  5\\right]\\\\\\left[ 6, \\  7, \\  8\\right] & \\left[ 9, \\  10, \\  11\\right]\\end{matrix}\\right]$"
      ],
      "text/plain": [
       "Matrix([\n",
       "[[0, 1, 2],   [3, 4, 5]],\n",
       "[[6, 7, 8], [9, 10, 11]]])"
      ]
     },
     "execution_count": 30,
     "metadata": {},
     "output_type": "execute_result"
    }
   ],
   "source": [
    "Matrix([[[ 0,  1,  2],\n",
    "        [ 3,  4,  5]],\n",
    "\n",
    "       [[ 6,  7,  8],\n",
    "        [ 9, 10, 11]]])"
   ]
  },
  {
   "cell_type": "code",
   "execution_count": 33,
   "id": "4158a8bc",
   "metadata": {},
   "outputs": [
    {
     "data": {
      "text/latex": [
       "$\\displaystyle \\left[\\begin{matrix}\\left[\\begin{matrix}0 & 1 & 2\\\\3 & 4 & 5\\end{matrix}\\right] & \\left[\\begin{matrix}6 & 7 & 8\\\\9 & 10 & 11\\end{matrix}\\right]\\end{matrix}\\right]$"
      ],
      "text/plain": [
       "Matrix([[[[0, 1, 2], [3, 4, 5]], [[6, 7, 8], [9, 10, 11]]]])"
      ]
     },
     "execution_count": 33,
     "metadata": {},
     "output_type": "execute_result"
    }
   ],
   "source": [
    "Matrix([matrix])"
   ]
  }
 ],
 "metadata": {
  "kernelspec": {
   "display_name": "Python 3",
   "language": "python",
   "name": "python3"
  },
  "language_info": {
   "codemirror_mode": {
    "name": "ipython",
    "version": 3
   },
   "file_extension": ".py",
   "mimetype": "text/x-python",
   "name": "python",
   "nbconvert_exporter": "python",
   "pygments_lexer": "ipython3",
   "version": "3.8.8"
  }
 },
 "nbformat": 4,
 "nbformat_minor": 5
}
