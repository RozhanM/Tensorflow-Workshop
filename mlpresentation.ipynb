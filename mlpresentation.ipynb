{
  "nbformat": 4,
  "nbformat_minor": 0,
  "metadata": {
    "colab": {
      "provenance": []
    },
    "kernelspec": {
      "name": "python3",
      "display_name": "Python 3"
    },
    "language_info": {
      "name": "python"
    }
  },
  "cells": [
    {
      "cell_type": "code",
      "execution_count": null,
      "metadata": {
        "id": "QWlXKQy2z--a"
      },
      "outputs": [],
      "source": [
        "import numpy as np\n",
        "import matplotlib.pyplot as plt"
      ]
    },
    {
      "cell_type": "code",
      "source": [
        "from google.colab import drive\n",
        "drive.mount('/content/drive')"
      ],
      "metadata": {
        "colab": {
          "base_uri": "https://localhost:8080/"
        },
        "id": "oBq8ruUam52a",
        "outputId": "c349d8b0-320b-47b5-8492-2824293f9c06"
      },
      "execution_count": null,
      "outputs": [
        {
          "output_type": "stream",
          "name": "stdout",
          "text": [
            "Drive already mounted at /content/drive; to attempt to forcibly remount, call drive.mount(\"/content/drive\", force_remount=True).\n"
          ]
        }
      ]
    },
    {
      "cell_type": "markdown",
      "source": [
        "**Linear Regression**"
      ],
      "metadata": {
        "id": "m3_valHmnFqR"
      }
    },
    {
      "cell_type": "markdown",
      "source": [
        "Y = 3X + 4\n"
      ],
      "metadata": {
        "id": "ka-dzvUL4mWl"
      }
    },
    {
      "cell_type": "markdown",
      "source": [
        "Y = W1 * X + W0\n",
        "\n"
      ],
      "metadata": {
        "id": "ltSRxrTB5I_d"
      }
    },
    {
      "cell_type": "markdown",
      "source": [
        "Y = [W1 , W0][X , 1BIAS]"
      ],
      "metadata": {
        "id": "JWYIUBLs5KQD"
      }
    },
    {
      "cell_type": "code",
      "source": [
        "x = 2 * np.random.rand(100 , 1)\n",
        "y = 4+ 3 * x + (2* np.random.rand(100,1))\n",
        "plt.plot(x, y, 'o')\n",
        "plt.show()"
      ],
      "metadata": {
        "colab": {
          "base_uri": "https://localhost:8080/",
          "height": 265
        },
        "id": "BBJ2X_S21Cpt",
        "outputId": "88d44de4-fefb-49d2-a3cd-f512c4878fdb"
      },
      "execution_count": null,
      "outputs": [
        {
          "output_type": "display_data",
          "data": {
            "text/plain": [
              "<Figure size 432x288 with 1 Axes>"
            ],
            "image/png": "[encoded data removed]"
          },
          "metadata": {
            "needs_background": "light"
          }
        }
      ]
    },
    {
      "cell_type": "code",
      "source": [
        "x_sample = np.array([[0] , [1]])\n",
        "x_sample_b = np.c_[np.ones((2,1)) , x_sample]"
      ],
      "metadata": {
        "id": "xec4O8SpkntC"
      },
      "execution_count": null,
      "outputs": []
    },
    {
      "cell_type": "code",
      "source": [
        "from sklearn.linear_model import LinearRegression\n",
        "model = LinearRegression()\n",
        "model.fit(x,y)\n",
        "y_pred = model.predict(x_sample)\n",
        "plt.plot(x , y, 'o')\n",
        "plt.plot(x_sample , y_pred, '-' , color = 'red')\n",
        "plt.show()"
      ],
      "metadata": {
        "colab": {
          "base_uri": "https://localhost:8080/",
          "height": 265
        },
        "id": "VFjS81M86Drs",
        "outputId": "65206d54-432a-43ab-f540-43a13017cac9"
      },
      "execution_count": null,
      "outputs": [
        {
          "output_type": "display_data",
          "data": {
            "text/plain": [
              "<Figure size 432x288 with 1 Axes>"
            ],
            "image/png": "[encoded data removed]"
          },
          "metadata": {
            "needs_background": "light"
          }
        }
      ]
    },
    {
      "cell_type": "markdown",
      "source": [
        "Mean Squared Error (MSE)"
      ],
      "metadata": {
        "id": "F7AxrbV2msll"
      }
    },
    {
      "cell_type": "markdown",
      "source": [
        "MSE formula = (1/n) * Σ(actual – forecast)2"
      ],
      "metadata": {
        "id": "jBvHuQLDms7x"
      }
    },
    {
      "cell_type": "code",
      "source": [
        "x = 2* np.random.randn(100,1)\n",
        "y = np.random.randn(100,1) + 4 + 3*x\n",
        "plt.plot(x , y , 'o')\n",
        "plt.show()\n",
        "x_b = np.c_[np.ones((100,1)), x]"
      ],
      "metadata": {
        "colab": {
          "base_uri": "https://localhost:8080/",
          "height": 265
        },
        "id": "GcFi2lgPm1PF",
        "outputId": "6bb37825-5219-4ba0-ab04-0abceaf50cf2"
      },
      "execution_count": null,
      "outputs": [
        {
          "output_type": "display_data",
          "data": {
            "text/plain": [
              "<Figure size 432x288 with 1 Axes>"
            ],
            "image/png": "[encoded data removed]"
          },
          "metadata": {
            "needs_background": "light"
          }
        }
      ]
    },
    {
      "cell_type": "code",
      "source": [
        "lr = 0.1 #learning_rate\n",
        "epochs = 100\n",
        "w = np.random.randn(2, 1)\n",
        "m = 100 # size of data\n",
        "\n",
        "Ws = []\n",
        "for epoch in range(epochs):\n",
        "  gradiants = (2 / m ) * x_b.T.dot(x_b.dot(w) - y)\n",
        "  w = w - lr * gradiants\n",
        "\n",
        "  loss = (1 / m) * np.sum( (x_b.dot(w) - y)**2 )\n",
        "  print(\"on epochs {} loss is {}\".format(epoch , loss))\n",
        "  \n",
        "  Ws.append(w)"
      ],
      "metadata": {
        "colab": {
          "base_uri": "https://localhost:8080/"
        },
        "id": "EbqfHWPrwMCc",
        "outputId": "74699079-e835-4c55-be0e-a97fc90282e4"
      },
      "execution_count": null,
      "outputs": [
        {
          "output_type": "stream",
          "name": "stdout",
          "text": [
            "on epochs 0 loss is 13.860585570091246\n",
            "on epochs 1 loss is 7.042237323703849\n",
            "on epochs 2 loss is 4.475016211905549\n",
            "on epochs 3 loss is 3.0475668085124115\n",
            "on epochs 4 loss is 2.15975546465491\n",
            "on epochs 5 loss is 1.5945623308813783\n",
            "on epochs 6 loss is 1.233143764741777\n",
            "on epochs 7 loss is 1.001836652019899\n",
            "on epochs 8 loss is 0.8537772313774867\n",
            "on epochs 9 loss is 0.7590017575529124\n",
            "on epochs 10 loss is 0.6983339505861457\n",
            "on epochs 11 loss is 0.6594991498591993\n",
            "on epochs 12 loss is 0.6346401328950417\n",
            "on epochs 13 loss is 0.618727324394855\n",
            "on epochs 14 loss is 0.6085411824217823\n",
            "on epochs 15 loss is 0.6020208068118775\n",
            "on epochs 16 loss is 0.5978469696302494\n",
            "on epochs 17 loss is 0.595175203790093\n",
            "on epochs 18 loss is 0.5934649471619453\n",
            "on epochs 19 loss is 0.5923701739261454\n",
            "on epochs 20 loss is 0.5916693852736717\n",
            "on epochs 21 loss is 0.5912207948995406\n",
            "on epochs 22 loss is 0.5909336422422414\n",
            "on epochs 23 loss is 0.5907498294514436\n",
            "on epochs 24 loss is 0.5906321668033645\n",
            "on epochs 25 loss is 0.5905568483301886\n",
            "on epochs 26 loss is 0.5905086353034201\n",
            "on epochs 27 loss is 0.5904777730746443\n",
            "on epochs 28 loss is 0.5904580174768558\n",
            "on epochs 29 loss is 0.5904453714801321\n",
            "on epochs 30 loss is 0.590437276496885\n",
            "on epochs 31 loss is 0.5904320947183981\n",
            "on epochs 32 loss is 0.5904287777469515\n",
            "on epochs 33 loss is 0.5904266544798912\n",
            "on epochs 34 loss is 0.5904252953295086\n",
            "on epochs 35 loss is 0.5904244253071755\n",
            "on epochs 36 loss is 0.590423868386565\n",
            "on epochs 37 loss is 0.5904235118893189\n",
            "on epochs 38 loss is 0.590423283687517\n",
            "on epochs 39 loss is 0.5904231376104777\n",
            "on epochs 40 loss is 0.5904230441033219\n",
            "on epochs 41 loss is 0.5904229842473155\n",
            "on epochs 42 loss is 0.5904229459321569\n",
            "on epochs 43 loss is 0.5904229214057735\n",
            "on epochs 44 loss is 0.5904229057058908\n",
            "on epochs 45 loss is 0.5904228956560472\n",
            "on epochs 46 loss is 0.5904228892229194\n",
            "on epochs 47 loss is 0.5904228851049316\n",
            "on epochs 48 loss is 0.590422882468916\n",
            "on epochs 49 loss is 0.590422880781544\n",
            "on epochs 50 loss is 0.5904228797014198\n",
            "on epochs 51 loss is 0.590422879010008\n",
            "on epochs 52 loss is 0.59042287856742\n",
            "on epochs 53 loss is 0.5904228782841099\n",
            "on epochs 54 loss is 0.5904228781027567\n",
            "on epochs 55 loss is 0.5904228779866685\n",
            "on epochs 56 loss is 0.5904228779123578\n",
            "on epochs 57 loss is 0.59042287786479\n",
            "on epochs 58 loss is 0.5904228778343407\n",
            "on epochs 59 loss is 0.5904228778148494\n",
            "on epochs 60 loss is 0.5904228778023726\n",
            "on epochs 61 loss is 0.5904228777943858\n",
            "on epochs 62 loss is 0.5904228777892734\n",
            "on epochs 63 loss is 0.590422877786001\n",
            "on epochs 64 loss is 0.5904228777839061\n",
            "on epochs 65 loss is 0.590422877782565\n",
            "on epochs 66 loss is 0.5904228777817069\n",
            "on epochs 67 loss is 0.5904228777811573\n",
            "on epochs 68 loss is 0.5904228777808054\n",
            "on epochs 69 loss is 0.5904228777805804\n",
            "on epochs 70 loss is 0.5904228777804361\n",
            "on epochs 71 loss is 0.5904228777803437\n",
            "on epochs 72 loss is 0.590422877780285\n",
            "on epochs 73 loss is 0.590422877780247\n",
            "on epochs 74 loss is 0.5904228777802227\n",
            "on epochs 75 loss is 0.5904228777802074\n",
            "on epochs 76 loss is 0.5904228777801975\n",
            "on epochs 77 loss is 0.590422877780191\n",
            "on epochs 78 loss is 0.5904228777801871\n",
            "on epochs 79 loss is 0.5904228777801844\n",
            "on epochs 80 loss is 0.5904228777801829\n",
            "on epochs 81 loss is 0.5904228777801818\n",
            "on epochs 82 loss is 0.5904228777801811\n",
            "on epochs 83 loss is 0.5904228777801805\n",
            "on epochs 84 loss is 0.5904228777801802\n",
            "on epochs 85 loss is 0.59042287778018\n",
            "on epochs 86 loss is 0.59042287778018\n",
            "on epochs 87 loss is 0.59042287778018\n",
            "on epochs 88 loss is 0.5904228777801798\n",
            "on epochs 89 loss is 0.5904228777801801\n",
            "on epochs 90 loss is 0.59042287778018\n",
            "on epochs 91 loss is 0.5904228777801798\n",
            "on epochs 92 loss is 0.5904228777801799\n",
            "on epochs 93 loss is 0.59042287778018\n",
            "on epochs 94 loss is 0.5904228777801799\n",
            "on epochs 95 loss is 0.5904228777801798\n",
            "on epochs 96 loss is 0.5904228777801799\n",
            "on epochs 97 loss is 0.59042287778018\n",
            "on epochs 98 loss is 0.5904228777801798\n",
            "on epochs 99 loss is 0.5904228777801799\n"
          ]
        }
      ]
    },
    {
      "cell_type": "code",
      "source": [
        "print(Ws)"
      ],
      "metadata": {
        "colab": {
          "base_uri": "https://localhost:8080/"
        },
        "id": "tKu64YlqxKP6",
        "outputId": "40822345-a239-4c50-a68b-0e5423b3525e"
      },
      "execution_count": null,
      "outputs": [
        {
          "output_type": "stream",
          "name": "stdout",
          "text": [
            "[array([[0.75421497],\n",
            "       [1.92337363]]), array([[1.3746365],\n",
            "       [2.6318742]]), array([[1.86680446],\n",
            "       [2.87382476]]), array([[2.25911503],\n",
            "       [2.95480062]]), array([[2.57248698],\n",
            "       [2.98056228]]), array([[2.82303294],\n",
            "       [2.98764847]]), array([[3.02342801],\n",
            "       [2.98863053]]), array([[3.18373829],\n",
            "       [2.98779171]]), array([[3.31199145],\n",
            "       [2.98655756]]), array([[3.41460123],\n",
            "       [2.98537502]]), array([[3.49669602],\n",
            "       [2.98436128]]), array([[3.56237782],\n",
            "       [2.98352676]]), array([[3.61492817],\n",
            "       [2.98285097]]), array([[3.65697242],\n",
            "       [2.98230746]]), array([[3.69061103],\n",
            "       [2.98187164]]), array([[3.71752447],\n",
            "       [2.98152261]]), array([[3.73905728],\n",
            "       [2.98124325]]), array([[3.75628518],\n",
            "       [2.98101969]]), array([[3.77006881],\n",
            "       [2.98084082]]), array([[3.78109676],\n",
            "       [2.9806977 ]]), array([[3.78991997],\n",
            "       [2.98058319]]), array([[3.79697921],\n",
            "       [2.98049158]]), array([[3.80262714],\n",
            "       [2.98041828]]), array([[3.80714592],\n",
            "       [2.98035963]]), array([[3.81076128],\n",
            "       [2.98031271]]), array([[3.81365385],\n",
            "       [2.98027517]]), array([[3.81596813],\n",
            "       [2.98024514]]), array([[3.81781973],\n",
            "       [2.98022111]]), array([[3.81930115],\n",
            "       [2.98020188]]), array([[3.8204864],\n",
            "       [2.9801865]]), array([[3.82143469],\n",
            "       [2.98017419]]), array([[3.82219339],\n",
            "       [2.98016434]]), array([[3.82280041],\n",
            "       [2.98015647]]), array([[3.82328607],\n",
            "       [2.98015016]]), array([[3.82367464],\n",
            "       [2.98014512]]), array([[3.82398553],\n",
            "       [2.98014109]]), array([[3.82423426],\n",
            "       [2.98013786]]), array([[3.82443326],\n",
            "       [2.98013527]]), array([[3.82459248],\n",
            "       [2.98013321]]), array([[3.82471986],\n",
            "       [2.98013156]]), array([[3.82482178],\n",
            "       [2.98013023]]), array([[3.82490333],\n",
            "       [2.98012917]]), array([[3.82496857],\n",
            "       [2.98012833]]), array([[3.82502076],\n",
            "       [2.98012765]]), array([[3.82506253],\n",
            "       [2.98012711]]), array([[3.82509594],\n",
            "       [2.98012667]]), array([[3.82512267],\n",
            "       [2.98012633]]), array([[3.82514406],\n",
            "       [2.98012605]]), array([[3.82516117],\n",
            "       [2.98012583]]), array([[3.82517486],\n",
            "       [2.98012565]]), array([[3.82518582],\n",
            "       [2.98012551]]), array([[3.82519458],\n",
            "       [2.98012539]]), array([[3.82520159],\n",
            "       [2.9801253 ]]), array([[3.8252072 ],\n",
            "       [2.98012523]]), array([[3.82521169],\n",
            "       [2.98012517]]), array([[3.82521528],\n",
            "       [2.98012513]]), array([[3.82521816],\n",
            "       [2.98012509]]), array([[3.82522046],\n",
            "       [2.98012506]]), array([[3.82522229],\n",
            "       [2.98012503]]), array([[3.82522377],\n",
            "       [2.98012502]]), array([[3.82522494],\n",
            "       [2.980125  ]]), array([[3.82522588],\n",
            "       [2.98012499]]), array([[3.82522664],\n",
            "       [2.98012498]]), array([[3.82522724],\n",
            "       [2.98012497]]), array([[3.82522772],\n",
            "       [2.98012496]]), array([[3.82522811],\n",
            "       [2.98012496]]), array([[3.82522842],\n",
            "       [2.98012496]]), array([[3.82522867],\n",
            "       [2.98012495]]), array([[3.82522886],\n",
            "       [2.98012495]]), array([[3.82522902],\n",
            "       [2.98012495]]), array([[3.82522915],\n",
            "       [2.98012495]]), array([[3.82522925],\n",
            "       [2.98012494]]), array([[3.82522933],\n",
            "       [2.98012494]]), array([[3.8252294 ],\n",
            "       [2.98012494]]), array([[3.82522945],\n",
            "       [2.98012494]]), array([[3.82522949],\n",
            "       [2.98012494]]), array([[3.82522952],\n",
            "       [2.98012494]]), array([[3.82522955],\n",
            "       [2.98012494]]), array([[3.82522957],\n",
            "       [2.98012494]]), array([[3.82522959],\n",
            "       [2.98012494]]), array([[3.8252296 ],\n",
            "       [2.98012494]]), array([[3.82522961],\n",
            "       [2.98012494]]), array([[3.82522962],\n",
            "       [2.98012494]]), array([[3.82522963],\n",
            "       [2.98012494]]), array([[3.82522963],\n",
            "       [2.98012494]]), array([[3.82522964],\n",
            "       [2.98012494]]), array([[3.82522964],\n",
            "       [2.98012494]]), array([[3.82522964],\n",
            "       [2.98012494]]), array([[3.82522965],\n",
            "       [2.98012494]]), array([[3.82522965],\n",
            "       [2.98012494]]), array([[3.82522965],\n",
            "       [2.98012494]]), array([[3.82522965],\n",
            "       [2.98012494]]), array([[3.82522965],\n",
            "       [2.98012494]]), array([[3.82522965],\n",
            "       [2.98012494]]), array([[3.82522965],\n",
            "       [2.98012494]]), array([[3.82522965],\n",
            "       [2.98012494]]), array([[3.82522965],\n",
            "       [2.98012494]]), array([[3.82522965],\n",
            "       [2.98012494]]), array([[3.82522965],\n",
            "       [2.98012494]]), array([[3.82522965],\n",
            "       [2.98012494]])]\n"
          ]
        }
      ]
    },
    {
      "cell_type": "code",
      "source": [
        "plt.plot(x , y , 'o')\n",
        "for w in Ws:\n",
        "  plt.plot(x_sample , x_sample_b.dot(w) , '--')"
      ],
      "metadata": {
        "colab": {
          "base_uri": "https://localhost:8080/",
          "height": 265
        },
        "id": "E8MEdxsrwjLp",
        "outputId": "78e91e3b-929d-40a5-842f-06c49cd96997"
      },
      "execution_count": null,
      "outputs": [
        {
          "output_type": "display_data",
          "data": {
            "text/plain": [
              "<Figure size 432x288 with 1 Axes>"
            ],
            "image/png": "[encoded data removed]"
          },
          "metadata": {
            "needs_background": "light"
          }
        }
      ]
    },
    {
      "cell_type": "code",
      "source": [
        "from sklearn.linear_model import SGDRegressor\n",
        "model = SGDRegressor()\n",
        "model.fit(x,y)\n",
        "y_prediction = model.predict(x_sample)"
      ],
      "metadata": {
        "colab": {
          "base_uri": "https://localhost:8080/"
        },
        "id": "cbhtQEK1EpZo",
        "outputId": "09ab47da-cb71-4a28-8270-2b39a2a5885f"
      },
      "execution_count": null,
      "outputs": [
        {
          "output_type": "stream",
          "name": "stderr",
          "text": [
            "/usr/local/lib/python3.7/dist-packages/sklearn/utils/validation.py:993: DataConversionWarning: A column-vector y was passed when a 1d array was expected. Please change the shape of y to (n_samples, ), for example using ravel().\n",
            "  y = column_or_1d(y, warn=True)\n"
          ]
        }
      ]
    },
    {
      "cell_type": "code",
      "source": [
        "plt.plot(x,y,'o')\n",
        "plt.plot(x_sample, y_prediction, '--')\n",
        "plt.show()"
      ],
      "metadata": {
        "colab": {
          "base_uri": "https://localhost:8080/",
          "height": 265
        },
        "id": "EnGa0T2IGB08",
        "outputId": "60b6eb91-3400-48de-a5b6-db97af980c7f"
      },
      "execution_count": null,
      "outputs": [
        {
          "output_type": "display_data",
          "data": {
            "text/plain": [
              "<Figure size 432x288 with 1 Axes>"
            ],
            "image/png": "[encoded data removed]"
          },
          "metadata": {
            "needs_background": "light"
          }
        }
      ]
    },
    {
      "cell_type": "code",
      "source": [
        "y_prediction = model.predict(x)"
      ],
      "metadata": {
        "id": "GKoP76bKJ0It"
      },
      "execution_count": null,
      "outputs": []
    },
    {
      "cell_type": "markdown",
      "source": [
        "Mean Absolute Error"
      ],
      "metadata": {
        "id": "gzheBk5AJH0N"
      }
    },
    {
      "cell_type": "code",
      "source": [
        "from sklearn.metrics import mean_absolute_error\n",
        "mean_absolute_error(y, y_prediction)"
      ],
      "metadata": {
        "colab": {
          "base_uri": "https://localhost:8080/"
        },
        "id": "u1Ncg53QJSCB",
        "outputId": "a280671c-7fad-4b38-c3b9-a7334753b0bc"
      },
      "execution_count": null,
      "outputs": [
        {
          "output_type": "execute_result",
          "data": {
            "text/plain": [
              "0.5904717902224351"
            ]
          },
          "metadata": {},
          "execution_count": 13
        }
      ]
    },
    {
      "cell_type": "markdown",
      "source": [
        "Mean Squared Error "
      ],
      "metadata": {
        "id": "mSDwMPeiKCPD"
      }
    },
    {
      "cell_type": "code",
      "source": [
        "from sklearn.metrics import mean_squared_error\n",
        "mean_squared_error(y, y_prediction)"
      ],
      "metadata": {
        "colab": {
          "base_uri": "https://localhost:8080/"
        },
        "id": "l6mXLADSKEoE",
        "outputId": "2d245476-3906-4161-e95d-d85862c82755"
      },
      "execution_count": null,
      "outputs": [
        {
          "output_type": "execute_result",
          "data": {
            "text/plain": [
              "0.5913029992356168"
            ]
          },
          "metadata": {},
          "execution_count": 14
        }
      ]
    },
    {
      "cell_type": "markdown",
      "source": [
        "RMSE"
      ],
      "metadata": {
        "id": "KqVzOCEdK-J9"
      }
    },
    {
      "cell_type": "code",
      "source": [
        "import math\n",
        "math.sqrt(mean_squared_error(y, y_prediction))"
      ],
      "metadata": {
        "colab": {
          "base_uri": "https://localhost:8080/"
        },
        "id": "9sd-55S5K6cW",
        "outputId": "238d86d0-e740-4756-f0bf-9903e9b0d321"
      },
      "execution_count": null,
      "outputs": [
        {
          "output_type": "execute_result",
          "data": {
            "text/plain": [
              "0.7689622872648676"
            ]
          },
          "metadata": {},
          "execution_count": 15
        }
      ]
    },
    {
      "cell_type": "markdown",
      "source": [
        "R2 Score (accuracy)"
      ],
      "metadata": {
        "id": "6Opd2vPSK1Lk"
      }
    },
    {
      "cell_type": "code",
      "source": [
        "from sklearn.metrics import r2_score\n",
        "r2_score(y, y_prediction)"
      ],
      "metadata": {
        "colab": {
          "base_uri": "https://localhost:8080/"
        },
        "id": "Q1CYH2N0KXz8",
        "outputId": "cbc24625-beac-4a27-d5e4-74eff7e994b2"
      },
      "execution_count": null,
      "outputs": [
        {
          "output_type": "execute_result",
          "data": {
            "text/plain": [
              "0.9800203256166966"
            ]
          },
          "metadata": {},
          "execution_count": 16
        }
      ]
    },
    {
      "cell_type": "markdown",
      "source": [
        "**SVM**"
      ],
      "metadata": {
        "id": "_HqhVlGtnN94"
      }
    },
    {
      "cell_type": "code",
      "source": [
        "import numpy as np\n",
        "from sklearn import datasets\n",
        "from sklearn.pipeline import Pipeline\n",
        "from sklearn.preprocessing import StandardScaler\n",
        "from sklearn.svm import LinearSVC"
      ],
      "metadata": {
        "id": "0Vvvx2trnSVK"
      },
      "execution_count": null,
      "outputs": []
    },
    {
      "cell_type": "code",
      "source": [
        "iris = datasets.load_iris()\n",
        "iris"
      ],
      "metadata": {
        "colab": {
          "base_uri": "https://localhost:8080/"
        },
        "id": "FhZJfzx_4sU_",
        "outputId": "afa098e9-83f9-47b9-aa09-8a97acaeb002"
      },
      "execution_count": null,
      "outputs": [
        {
          "output_type": "execute_result",
          "data": {
            "text/plain": [
              "{'data': array([[5.1, 3.5, 1.4, 0.2],\n",
              "        [4.9, 3. , 1.4, 0.2],\n",
              "        [4.7, 3.2, 1.3, 0.2],\n",
              "        [4.6, 3.1, 1.5, 0.2],\n",
              "        [5. , 3.6, 1.4, 0.2],\n",
              "        [5.4, 3.9, 1.7, 0.4],\n",
              "        [4.6, 3.4, 1.4, 0.3],\n",
              "        [5. , 3.4, 1.5, 0.2],\n",
              "        [4.4, 2.9, 1.4, 0.2],\n",
              "        [4.9, 3.1, 1.5, 0.1],\n",
              "        [5.4, 3.7, 1.5, 0.2],\n",
              "        [4.8, 3.4, 1.6, 0.2],\n",
              "        [4.8, 3. , 1.4, 0.1],\n",
              "        [4.3, 3. , 1.1, 0.1],\n",
              "        [5.8, 4. , 1.2, 0.2],\n",
              "        [5.7, 4.4, 1.5, 0.4],\n",
              "        [5.4, 3.9, 1.3, 0.4],\n",
              "        [5.1, 3.5, 1.4, 0.3],\n",
              "        [5.7, 3.8, 1.7, 0.3],\n",
              "        [5.1, 3.8, 1.5, 0.3],\n",
              "        [5.4, 3.4, 1.7, 0.2],\n",
              "        [5.1, 3.7, 1.5, 0.4],\n",
              "        [4.6, 3.6, 1. , 0.2],\n",
              "        [5.1, 3.3, 1.7, 0.5],\n",
              "        [4.8, 3.4, 1.9, 0.2],\n",
              "        [5. , 3. , 1.6, 0.2],\n",
              "        [5. , 3.4, 1.6, 0.4],\n",
              "        [5.2, 3.5, 1.5, 0.2],\n",
              "        [5.2, 3.4, 1.4, 0.2],\n",
              "        [4.7, 3.2, 1.6, 0.2],\n",
              "        [4.8, 3.1, 1.6, 0.2],\n",
              "        [5.4, 3.4, 1.5, 0.4],\n",
              "        [5.2, 4.1, 1.5, 0.1],\n",
              "        [5.5, 4.2, 1.4, 0.2],\n",
              "        [4.9, 3.1, 1.5, 0.2],\n",
              "        [5. , 3.2, 1.2, 0.2],\n",
              "        [5.5, 3.5, 1.3, 0.2],\n",
              "        [4.9, 3.6, 1.4, 0.1],\n",
              "        [4.4, 3. , 1.3, 0.2],\n",
              "        [5.1, 3.4, 1.5, 0.2],\n",
              "        [5. , 3.5, 1.3, 0.3],\n",
              "        [4.5, 2.3, 1.3, 0.3],\n",
              "        [4.4, 3.2, 1.3, 0.2],\n",
              "        [5. , 3.5, 1.6, 0.6],\n",
              "        [5.1, 3.8, 1.9, 0.4],\n",
              "        [4.8, 3. , 1.4, 0.3],\n",
              "        [5.1, 3.8, 1.6, 0.2],\n",
              "        [4.6, 3.2, 1.4, 0.2],\n",
              "        [5.3, 3.7, 1.5, 0.2],\n",
              "        [5. , 3.3, 1.4, 0.2],\n",
              "        [7. , 3.2, 4.7, 1.4],\n",
              "        [6.4, 3.2, 4.5, 1.5],\n",
              "        [6.9, 3.1, 4.9, 1.5],\n",
              "        [5.5, 2.3, 4. , 1.3],\n",
              "        [6.5, 2.8, 4.6, 1.5],\n",
              "        [5.7, 2.8, 4.5, 1.3],\n",
              "        [6.3, 3.3, 4.7, 1.6],\n",
              "        [4.9, 2.4, 3.3, 1. ],\n",
              "        [6.6, 2.9, 4.6, 1.3],\n",
              "        [5.2, 2.7, 3.9, 1.4],\n",
              "        [5. , 2. , 3.5, 1. ],\n",
              "        [5.9, 3. , 4.2, 1.5],\n",
              "        [6. , 2.2, 4. , 1. ],\n",
              "        [6.1, 2.9, 4.7, 1.4],\n",
              "        [5.6, 2.9, 3.6, 1.3],\n",
              "        [6.7, 3.1, 4.4, 1.4],\n",
              "        [5.6, 3. , 4.5, 1.5],\n",
              "        [5.8, 2.7, 4.1, 1. ],\n",
              "        [6.2, 2.2, 4.5, 1.5],\n",
              "        [5.6, 2.5, 3.9, 1.1],\n",
              "        [5.9, 3.2, 4.8, 1.8],\n",
              "        [6.1, 2.8, 4. , 1.3],\n",
              "        [6.3, 2.5, 4.9, 1.5],\n",
              "        [6.1, 2.8, 4.7, 1.2],\n",
              "        [6.4, 2.9, 4.3, 1.3],\n",
              "        [6.6, 3. , 4.4, 1.4],\n",
              "        [6.8, 2.8, 4.8, 1.4],\n",
              "        [6.7, 3. , 5. , 1.7],\n",
              "        [6. , 2.9, 4.5, 1.5],\n",
              "        [5.7, 2.6, 3.5, 1. ],\n",
              "        [5.5, 2.4, 3.8, 1.1],\n",
              "        [5.5, 2.4, 3.7, 1. ],\n",
              "        [5.8, 2.7, 3.9, 1.2],\n",
              "        [6. , 2.7, 5.1, 1.6],\n",
              "        [5.4, 3. , 4.5, 1.5],\n",
              "        [6. , 3.4, 4.5, 1.6],\n",
              "        [6.7, 3.1, 4.7, 1.5],\n",
              "        [6.3, 2.3, 4.4, 1.3],\n",
              "        [5.6, 3. , 4.1, 1.3],\n",
              "        [5.5, 2.5, 4. , 1.3],\n",
              "        [5.5, 2.6, 4.4, 1.2],\n",
              "        [6.1, 3. , 4.6, 1.4],\n",
              "        [5.8, 2.6, 4. , 1.2],\n",
              "        [5. , 2.3, 3.3, 1. ],\n",
              "        [5.6, 2.7, 4.2, 1.3],\n",
              "        [5.7, 3. , 4.2, 1.2],\n",
              "        [5.7, 2.9, 4.2, 1.3],\n",
              "        [6.2, 2.9, 4.3, 1.3],\n",
              "        [5.1, 2.5, 3. , 1.1],\n",
              "        [5.7, 2.8, 4.1, 1.3],\n",
              "        [6.3, 3.3, 6. , 2.5],\n",
              "        [5.8, 2.7, 5.1, 1.9],\n",
              "        [7.1, 3. , 5.9, 2.1],\n",
              "        [6.3, 2.9, 5.6, 1.8],\n",
              "        [6.5, 3. , 5.8, 2.2],\n",
              "        [7.6, 3. , 6.6, 2.1],\n",
              "        [4.9, 2.5, 4.5, 1.7],\n",
              "        [7.3, 2.9, 6.3, 1.8],\n",
              "        [6.7, 2.5, 5.8, 1.8],\n",
              "        [7.2, 3.6, 6.1, 2.5],\n",
              "        [6.5, 3.2, 5.1, 2. ],\n",
              "        [6.4, 2.7, 5.3, 1.9],\n",
              "        [6.8, 3. , 5.5, 2.1],\n",
              "        [5.7, 2.5, 5. , 2. ],\n",
              "        [5.8, 2.8, 5.1, 2.4],\n",
              "        [6.4, 3.2, 5.3, 2.3],\n",
              "        [6.5, 3. , 5.5, 1.8],\n",
              "        [7.7, 3.8, 6.7, 2.2],\n",
              "        [7.7, 2.6, 6.9, 2.3],\n",
              "        [6. , 2.2, 5. , 1.5],\n",
              "        [6.9, 3.2, 5.7, 2.3],\n",
              "        [5.6, 2.8, 4.9, 2. ],\n",
              "        [7.7, 2.8, 6.7, 2. ],\n",
              "        [6.3, 2.7, 4.9, 1.8],\n",
              "        [6.7, 3.3, 5.7, 2.1],\n",
              "        [7.2, 3.2, 6. , 1.8],\n",
              "        [6.2, 2.8, 4.8, 1.8],\n",
              "        [6.1, 3. , 4.9, 1.8],\n",
              "        [6.4, 2.8, 5.6, 2.1],\n",
              "        [7.2, 3. , 5.8, 1.6],\n",
              "        [7.4, 2.8, 6.1, 1.9],\n",
              "        [7.9, 3.8, 6.4, 2. ],\n",
              "        [6.4, 2.8, 5.6, 2.2],\n",
              "        [6.3, 2.8, 5.1, 1.5],\n",
              "        [6.1, 2.6, 5.6, 1.4],\n",
              "        [7.7, 3. , 6.1, 2.3],\n",
              "        [6.3, 3.4, 5.6, 2.4],\n",
              "        [6.4, 3.1, 5.5, 1.8],\n",
              "        [6. , 3. , 4.8, 1.8],\n",
              "        [6.9, 3.1, 5.4, 2.1],\n",
              "        [6.7, 3.1, 5.6, 2.4],\n",
              "        [6.9, 3.1, 5.1, 2.3],\n",
              "        [5.8, 2.7, 5.1, 1.9],\n",
              "        [6.8, 3.2, 5.9, 2.3],\n",
              "        [6.7, 3.3, 5.7, 2.5],\n",
              "        [6.7, 3. , 5.2, 2.3],\n",
              "        [6.3, 2.5, 5. , 1.9],\n",
              "        [6.5, 3. , 5.2, 2. ],\n",
              "        [6.2, 3.4, 5.4, 2.3],\n",
              "        [5.9, 3. , 5.1, 1.8]]),\n",
              " 'target': array([0, 0, 0, 0, 0, 0, 0, 0, 0, 0, 0, 0, 0, 0, 0, 0, 0, 0, 0, 0, 0, 0,\n",
              "        0, 0, 0, 0, 0, 0, 0, 0, 0, 0, 0, 0, 0, 0, 0, 0, 0, 0, 0, 0, 0, 0,\n",
              "        0, 0, 0, 0, 0, 0, 1, 1, 1, 1, 1, 1, 1, 1, 1, 1, 1, 1, 1, 1, 1, 1,\n",
              "        1, 1, 1, 1, 1, 1, 1, 1, 1, 1, 1, 1, 1, 1, 1, 1, 1, 1, 1, 1, 1, 1,\n",
              "        1, 1, 1, 1, 1, 1, 1, 1, 1, 1, 1, 1, 2, 2, 2, 2, 2, 2, 2, 2, 2, 2,\n",
              "        2, 2, 2, 2, 2, 2, 2, 2, 2, 2, 2, 2, 2, 2, 2, 2, 2, 2, 2, 2, 2, 2,\n",
              "        2, 2, 2, 2, 2, 2, 2, 2, 2, 2, 2, 2, 2, 2, 2, 2, 2, 2]),\n",
              " 'frame': None,\n",
              " 'target_names': array(['setosa', 'versicolor', 'virginica'], dtype='<U10'),\n",
              " 'DESCR': '.. _iris_dataset:\\n\\nIris plants dataset\\n--------------------\\n\\n**Data Set Characteristics:**\\n\\n    :Number of Instances: 150 (50 in each of three classes)\\n    :Number of Attributes: 4 numeric, predictive attributes and the class\\n    :Attribute Information:\\n        - sepal length in cm\\n        - sepal width in cm\\n        - petal length in cm\\n        - petal width in cm\\n        - class:\\n                - Iris-Setosa\\n                - Iris-Versicolour\\n                - Iris-Virginica\\n                \\n    :Summary Statistics:\\n\\n    ============== ==== ==== ======= ===== ====================\\n                    Min  Max   Mean    SD   Class Correlation\\n    ============== ==== ==== ======= ===== ====================\\n    sepal length:   4.3  7.9   5.84   0.83    0.7826\\n    sepal width:    2.0  4.4   3.05   0.43   -0.4194\\n    petal length:   1.0  6.9   3.76   1.76    0.9490  (high!)\\n    petal width:    0.1  2.5   1.20   0.76    0.9565  (high!)\\n    ============== ==== ==== ======= ===== ====================\\n\\n    :Missing Attribute Values: None\\n    :Class Distribution: 33.3% for each of 3 classes.\\n    :Creator: R.A. Fisher\\n    :Donor: Michael Marshall (MARSHALL%PLU@io.arc.nasa.gov)\\n    :Date: July, 1988\\n\\nThe famous Iris database, first used by Sir R.A. Fisher. The dataset is taken\\nfrom Fisher\\'s paper. Note that it\\'s the same as in R, but not as in the UCI\\nMachine Learning Repository, which has two wrong data points.\\n\\nThis is perhaps the best known database to be found in the\\npattern recognition literature.  Fisher\\'s paper is a classic in the field and\\nis referenced frequently to this day.  (See Duda & Hart, for example.)  The\\ndata set contains 3 classes of 50 instances each, where each class refers to a\\ntype of iris plant.  One class is linearly separable from the other 2; the\\nlatter are NOT linearly separable from each other.\\n\\n.. topic:: References\\n\\n   - Fisher, R.A. \"The use of multiple measurements in taxonomic problems\"\\n     Annual Eugenics, 7, Part II, 179-188 (1936); also in \"Contributions to\\n     Mathematical Statistics\" (John Wiley, NY, 1950).\\n   - Duda, R.O., & Hart, P.E. (1973) Pattern Classification and Scene Analysis.\\n     (Q327.D83) John Wiley & Sons.  ISBN 0-471-22361-1.  See page 218.\\n   - Dasarathy, B.V. (1980) \"Nosing Around the Neighborhood: A New System\\n     Structure and Classification Rule for Recognition in Partially Exposed\\n     Environments\".  IEEE Transactions on Pattern Analysis and Machine\\n     Intelligence, Vol. PAMI-2, No. 1, 67-71.\\n   - Gates, G.W. (1972) \"The Reduced Nearest Neighbor Rule\".  IEEE Transactions\\n     on Information Theory, May 1972, 431-433.\\n   - See also: 1988 MLC Proceedings, 54-64.  Cheeseman et al\"s AUTOCLASS II\\n     conceptual clustering system finds 3 classes in the data.\\n   - Many, many more ...',\n",
              " 'feature_names': ['sepal length (cm)',\n",
              "  'sepal width (cm)',\n",
              "  'petal length (cm)',\n",
              "  'petal width (cm)'],\n",
              " 'filename': 'iris.csv',\n",
              " 'data_module': 'sklearn.datasets.data'}"
            ]
          },
          "metadata": {},
          "execution_count": 18
        }
      ]
    },
    {
      "cell_type": "code",
      "source": [
        "x = iris['data'][: , (2,3)] # 'petal length (cm)','petal width (cm)'\n",
        "y = (iris['target'] == 2).astype(np.float64) #'versicolor'\n",
        "svm = Pipeline([\n",
        "    ('Scaler' , StandardScaler()),\n",
        "    ('linear_svc' , LinearSVC(C=20)),\n",
        "])\n",
        "svm.fit(x,y)\n",
        "y_pred = svm.predict(x)"
      ],
      "metadata": {
        "colab": {
          "base_uri": "https://localhost:8080/"
        },
        "id": "jmRuFt6U6gJm",
        "outputId": "ebc58fec-8137-409f-aa7c-54a7f1f6885e"
      },
      "execution_count": null,
      "outputs": [
        {
          "output_type": "stream",
          "name": "stderr",
          "text": [
            "/usr/local/lib/python3.7/dist-packages/sklearn/svm/_base.py:1208: ConvergenceWarning: Liblinear failed to converge, increase the number of iterations.\n",
            "  ConvergenceWarning,\n"
          ]
        }
      ]
    },
    {
      "cell_type": "code",
      "source": [
        "from sklearn.metrics import f1_score\n",
        "f1_score(y, y_pred)"
      ],
      "metadata": {
        "colab": {
          "base_uri": "https://localhost:8080/"
        },
        "id": "9yrx_3DI8hPe",
        "outputId": "00dd7911-95df-4708-f41d-ed4c837bc5fa"
      },
      "execution_count": null,
      "outputs": [
        {
          "output_type": "execute_result",
          "data": {
            "text/plain": [
              "0.94"
            ]
          },
          "metadata": {},
          "execution_count": 20
        }
      ]
    },
    {
      "cell_type": "code",
      "source": [
        "import matplotlib.pyplot as plt\n",
        "import sklearn.datasets as ds\n",
        "\n",
        "fig, ax = plt.subplots()\n",
        "data, labels = ds.make_circles(n_samples=120, \n",
        "                             shuffle=True, \n",
        "                             noise=0.05, \n",
        "                             random_state=None)\n",
        "\n",
        "ax.scatter(data[labels==0, 0], data[labels==0, 1], \n",
        "               c='red', s=40, label='reds')\n",
        "ax.scatter(data[labels==1, 0], data[labels==1, 1], \n",
        "               c='green', s=40, label='greens')\n",
        "\n",
        "ax.set(xlabel='X',\n",
        "       ylabel='Y',\n",
        "       title='circles')\n",
        "\n",
        "ax.legend(loc='upper right')"
      ],
      "metadata": {
        "colab": {
          "base_uri": "https://localhost:8080/",
          "height": 312
        },
        "id": "ePjf2syS_Jcx",
        "outputId": "9b5b2c82-4e6e-459c-f23b-053fc8c9ec23"
      },
      "execution_count": null,
      "outputs": [
        {
          "output_type": "execute_result",
          "data": {
            "text/plain": [
              "<matplotlib.legend.Legend at 0x7f8eddbc83d0>"
            ]
          },
          "metadata": {},
          "execution_count": 21
        },
        {
          "output_type": "display_data",
          "data": {
            "text/plain": [
              "<Figure size 432x288 with 1 Axes>"
            ],
            "image/png": "[encoded data removed]"
          },
          "metadata": {
            "needs_background": "light"
          }
        }
      ]
    },
    {
      "cell_type": "code",
      "source": [
        "from sklearn.pipeline import Pipeline\n",
        "from sklearn.preprocessing import PolynomialFeatures\n",
        "from sklearn.metrics import f1_score\n",
        "\n",
        "polynomial_svm = Pipeline([\n",
        "    (\"poly_features\", PolynomialFeatures(degree=3)),\n",
        "    (\"scaler\", StandardScaler()),\n",
        "    (\"svm_clf\", LinearSVC(C=10))\n",
        "])\n",
        "polynomial_svm.fit(data, labels)\n",
        "y_pred = polynomial_svm.predict(data)\n",
        "f1_score(labels ,y_pred)"
      ],
      "metadata": {
        "colab": {
          "base_uri": "https://localhost:8080/"
        },
        "id": "IjyeSoXEAK1m",
        "outputId": "d1d2d10f-f928-4ad1-802e-3b3ecad3131e"
      },
      "execution_count": null,
      "outputs": [
        {
          "output_type": "stream",
          "name": "stderr",
          "text": [
            "/usr/local/lib/python3.7/dist-packages/sklearn/svm/_base.py:1208: ConvergenceWarning: Liblinear failed to converge, increase the number of iterations.\n",
            "  ConvergenceWarning,\n"
          ]
        },
        {
          "output_type": "execute_result",
          "data": {
            "text/plain": [
              "1.0"
            ]
          },
          "metadata": {},
          "execution_count": 22
        }
      ]
    },
    {
      "cell_type": "markdown",
      "source": [
        "**KNN**"
      ],
      "metadata": {
        "id": "eX12gFyv15Zu"
      }
    },
    {
      "cell_type": "code",
      "source": [
        "x = iris['data'][:, (2,3)]\n",
        "y = iris['target']\n"
      ],
      "metadata": {
        "id": "AYC8qGXp17Zv"
      },
      "execution_count": null,
      "outputs": []
    },
    {
      "cell_type": "code",
      "source": [
        "from sklearn.neighbors import KNeighborsClassifier\n",
        "knn = KNeighborsClassifier (n_neighbors=3)\n",
        "knn.fit(x,y)\n",
        "x_test=[[3.2, 2.6]]\n",
        "y_pred = knn.predict(x_test)\n",
        "y_pred"
      ],
      "metadata": {
        "colab": {
          "base_uri": "https://localhost:8080/"
        },
        "id": "-N9I2zDl2yFf",
        "outputId": "6e4c967d-89b7-4646-8196-d910952f2747"
      },
      "execution_count": null,
      "outputs": [
        {
          "output_type": "execute_result",
          "data": {
            "text/plain": [
              "array([1])"
            ]
          },
          "metadata": {},
          "execution_count": 24
        }
      ]
    },
    {
      "cell_type": "code",
      "source": [
        "print(knn.kneighbors(x_test)[1])"
      ],
      "metadata": {
        "colab": {
          "base_uri": "https://localhost:8080/"
        },
        "id": "f1IMdqch6tF3",
        "outputId": "21d76e4c-0445-438c-bb33-15719ea56b7a"
      },
      "execution_count": null,
      "outputs": [
        {
          "output_type": "stream",
          "name": "stdout",
          "text": [
            "[[64 59 61]]\n"
          ]
        }
      ]
    },
    {
      "cell_type": "code",
      "source": [
        "plt.scatter(x[:50, 0], x[:50, 1],\n",
        "            color='blue', marker='o', label='Setosa')\n",
        "plt.scatter(x[50:100, 0], x[50:100, 1],\n",
        "            color='green', marker='o', label='Versicolor')\n",
        "plt.scatter(x[100:150, 0], x[100:150, 1],\n",
        "            color='red', marker='o', label='virginica')\n",
        "plt.plot(x_test, y_pred, 'o')\n",
        "plt.xlabel('Sepal length [cm]')\n",
        "plt.ylabel('Petal length [cm]')\n",
        "plt.legend(loc='upper left')\n",
        "plt.show()"
      ],
      "metadata": {
        "colab": {
          "base_uri": "https://localhost:8080/",
          "height": 279
        },
        "id": "MMAtoXQq73a4",
        "outputId": "7da05683-0fd6-45f8-8340-a11d5be30701"
      },
      "execution_count": null,
      "outputs": [
        {
          "output_type": "display_data",
          "data": {
            "text/plain": [
              "<Figure size 432x288 with 1 Axes>"
            ],
            "image/png": "[encoded data removed]"
          },
          "metadata": {
            "needs_background": "light"
          }
        }
      ]
    },
    {
      "cell_type": "markdown",
      "source": [
        "**decision tree**"
      ],
      "metadata": {
        "id": "BYYidC85ePlI"
      }
    },
    {
      "cell_type": "code",
      "source": [
        "from sklearn import tree\n",
        "X, y = iris.data, iris.target\n",
        "clf = tree.DecisionTreeClassifier()\n",
        "clf = clf.fit(X, y)\n",
        "tree.plot_tree(clf)"
      ],
      "metadata": {
        "colab": {
          "base_uri": "https://localhost:8080/",
          "height": 543
        },
        "id": "TiOCuamieYQP",
        "outputId": "be3995f3-3706-46a4-948f-295d4c84b4d7"
      },
      "execution_count": null,
      "outputs": [
        {
          "output_type": "execute_result",
          "data": {
            "text/plain": [
              "[Text(0.5, 0.9166666666666666, 'X[3] <= 0.8\\ngini = 0.667\\nsamples = 150\\nvalue = [50, 50, 50]'),\n",
              " Text(0.4230769230769231, 0.75, 'gini = 0.0\\nsamples = 50\\nvalue = [50, 0, 0]'),\n",
              " Text(0.5769230769230769, 0.75, 'X[3] <= 1.75\\ngini = 0.5\\nsamples = 100\\nvalue = [0, 50, 50]'),\n",
              " Text(0.3076923076923077, 0.5833333333333334, 'X[2] <= 4.95\\ngini = 0.168\\nsamples = 54\\nvalue = [0, 49, 5]'),\n",
              " Text(0.15384615384615385, 0.4166666666666667, 'X[3] <= 1.65\\ngini = 0.041\\nsamples = 48\\nvalue = [0, 47, 1]'),\n",
              " Text(0.07692307692307693, 0.25, 'gini = 0.0\\nsamples = 47\\nvalue = [0, 47, 0]'),\n",
              " Text(0.23076923076923078, 0.25, 'gini = 0.0\\nsamples = 1\\nvalue = [0, 0, 1]'),\n",
              " Text(0.46153846153846156, 0.4166666666666667, 'X[3] <= 1.55\\ngini = 0.444\\nsamples = 6\\nvalue = [0, 2, 4]'),\n",
              " Text(0.38461538461538464, 0.25, 'gini = 0.0\\nsamples = 3\\nvalue = [0, 0, 3]'),\n",
              " Text(0.5384615384615384, 0.25, 'X[0] <= 6.95\\ngini = 0.444\\nsamples = 3\\nvalue = [0, 2, 1]'),\n",
              " Text(0.46153846153846156, 0.08333333333333333, 'gini = 0.0\\nsamples = 2\\nvalue = [0, 2, 0]'),\n",
              " Text(0.6153846153846154, 0.08333333333333333, 'gini = 0.0\\nsamples = 1\\nvalue = [0, 0, 1]'),\n",
              " Text(0.8461538461538461, 0.5833333333333334, 'X[2] <= 4.85\\ngini = 0.043\\nsamples = 46\\nvalue = [0, 1, 45]'),\n",
              " Text(0.7692307692307693, 0.4166666666666667, 'X[1] <= 3.1\\ngini = 0.444\\nsamples = 3\\nvalue = [0, 1, 2]'),\n",
              " Text(0.6923076923076923, 0.25, 'gini = 0.0\\nsamples = 2\\nvalue = [0, 0, 2]'),\n",
              " Text(0.8461538461538461, 0.25, 'gini = 0.0\\nsamples = 1\\nvalue = [0, 1, 0]'),\n",
              " Text(0.9230769230769231, 0.4166666666666667, 'gini = 0.0\\nsamples = 43\\nvalue = [0, 0, 43]')]"
            ]
          },
          "metadata": {},
          "execution_count": 28
        },
        {
          "output_type": "display_data",
          "data": {
            "text/plain": [
              "<Figure size 432x288 with 1 Axes>"
            ],
            "image/png": "[encoded data removed]"
          },
          "metadata": {
            "needs_background": "light"
          }
        }
      ]
    },
    {
      "cell_type": "markdown",
      "source": [
        "Random Forest "
      ],
      "metadata": {
        "id": "EagCIwlCDemK"
      }
    },
    {
      "cell_type": "code",
      "source": [
        "import pandas as pd"
      ],
      "metadata": {
        "id": "fjVBKsiVDdSH"
      },
      "execution_count": null,
      "outputs": []
    },
    {
      "cell_type": "code",
      "source": [
        "df = pd.read_csv('/content/drive/MyDrive/Colab Notebooks/possum.csv')\n",
        "df.head()"
      ],
      "metadata": {
        "colab": {
          "base_uri": "https://localhost:8080/",
          "height": 206
        },
        "id": "nwZLIPeCDr0V",
        "outputId": "cc5d8819-5785-40ac-838e-d0decb1d48c8"
      },
      "execution_count": null,
      "outputs": [
        {
          "output_type": "execute_result",
          "data": {
            "text/plain": [
              "  Unnamed: 0  case  site  Pop sex  age  hdlngth  skullw  totlngth  taill  \\\n",
              "0         C3     1     1  Vic   m  8.0     94.1    60.4      89.0   36.0   \n",
              "1         C5     2     1  Vic   f  6.0     92.5    57.6      91.5   36.5   \n",
              "2        C10     3     1  Vic   f  6.0     94.0    60.0      95.5   39.0   \n",
              "3        C15     4     1  Vic   f  6.0     93.2    57.1      92.0   38.0   \n",
              "4        C23     5     1  Vic   f  2.0     91.5    56.3      85.5   36.0   \n",
              "\n",
              "   footlgth  earconch   eye  chest  belly  \n",
              "0      74.5      54.5  15.2   28.0   36.0  \n",
              "1      72.5      51.2  16.0   28.5   33.0  \n",
              "2      75.4      51.9  15.5   30.0   34.0  \n",
              "3      76.1      52.2  15.2   28.0   34.0  \n",
              "4      71.0      53.2  15.1   28.5   33.0  "
            ],
            "text/html": [
              "\n",
              "  <div id=\"df-5fe703cb-79f9-42a7-ac72-34d26f052f61\">\n",
              "    <div class=\"colab-df-container\">\n",
              "      <div>\n",
              "<style scoped>\n",
              "    .dataframe tbody tr th:only-of-type {\n",
              "        vertical-align: middle;\n",
              "    }\n",
              "\n",
              "    .dataframe tbody tr th {\n",
              "        vertical-align: top;\n",
              "    }\n",
              "\n",
              "    .dataframe thead th {\n",
              "        text-align: right;\n",
              "    }\n",
              "</style>\n",
              "<table border=\"1\" class=\"dataframe\">\n",
              "  <thead>\n",
              "    <tr style=\"text-align: right;\">\n",
              "      <th></th>\n",
              "      <th>Unnamed: 0</th>\n",
              "      <th>case</th>\n",
              "      <th>site</th>\n",
              "      <th>Pop</th>\n",
              "      <th>sex</th>\n",
              "      <th>age</th>\n",
              "      <th>hdlngth</th>\n",
              "      <th>skullw</th>\n",
              "      <th>totlngth</th>\n",
              "      <th>taill</th>\n",
              "      <th>footlgth</th>\n",
              "      <th>earconch</th>\n",
              "      <th>eye</th>\n",
              "      <th>chest</th>\n",
              "      <th>belly</th>\n",
              "    </tr>\n",
              "  </thead>\n",
              "  <tbody>\n",
              "    <tr>\n",
              "      <th>0</th>\n",
              "      <td>C3</td>\n",
              "      <td>1</td>\n",
              "      <td>1</td>\n",
              "      <td>Vic</td>\n",
              "      <td>m</td>\n",
              "      <td>8.0</td>\n",
              "      <td>94.1</td>\n",
              "      <td>60.4</td>\n",
              "      <td>89.0</td>\n",
              "      <td>36.0</td>\n",
              "      <td>74.5</td>\n",
              "      <td>54.5</td>\n",
              "      <td>15.2</td>\n",
              "      <td>28.0</td>\n",
              "      <td>36.0</td>\n",
              "    </tr>\n",
              "    <tr>\n",
              "      <th>1</th>\n",
              "      <td>C5</td>\n",
              "      <td>2</td>\n",
              "      <td>1</td>\n",
              "      <td>Vic</td>\n",
              "      <td>f</td>\n",
              "      <td>6.0</td>\n",
              "      <td>92.5</td>\n",
              "      <td>57.6</td>\n",
              "      <td>91.5</td>\n",
              "      <td>36.5</td>\n",
              "      <td>72.5</td>\n",
              "      <td>51.2</td>\n",
              "      <td>16.0</td>\n",
              "      <td>28.5</td>\n",
              "      <td>33.0</td>\n",
              "    </tr>\n",
              "    <tr>\n",
              "      <th>2</th>\n",
              "      <td>C10</td>\n",
              "      <td>3</td>\n",
              "      <td>1</td>\n",
              "      <td>Vic</td>\n",
              "      <td>f</td>\n",
              "      <td>6.0</td>\n",
              "      <td>94.0</td>\n",
              "      <td>60.0</td>\n",
              "      <td>95.5</td>\n",
              "      <td>39.0</td>\n",
              "      <td>75.4</td>\n",
              "      <td>51.9</td>\n",
              "      <td>15.5</td>\n",
              "      <td>30.0</td>\n",
              "      <td>34.0</td>\n",
              "    </tr>\n",
              "    <tr>\n",
              "      <th>3</th>\n",
              "      <td>C15</td>\n",
              "      <td>4</td>\n",
              "      <td>1</td>\n",
              "      <td>Vic</td>\n",
              "      <td>f</td>\n",
              "      <td>6.0</td>\n",
              "      <td>93.2</td>\n",
              "      <td>57.1</td>\n",
              "      <td>92.0</td>\n",
              "      <td>38.0</td>\n",
              "      <td>76.1</td>\n",
              "      <td>52.2</td>\n",
              "      <td>15.2</td>\n",
              "      <td>28.0</td>\n",
              "      <td>34.0</td>\n",
              "    </tr>\n",
              "    <tr>\n",
              "      <th>4</th>\n",
              "      <td>C23</td>\n",
              "      <td>5</td>\n",
              "      <td>1</td>\n",
              "      <td>Vic</td>\n",
              "      <td>f</td>\n",
              "      <td>2.0</td>\n",
              "      <td>91.5</td>\n",
              "      <td>56.3</td>\n",
              "      <td>85.5</td>\n",
              "      <td>36.0</td>\n",
              "      <td>71.0</td>\n",
              "      <td>53.2</td>\n",
              "      <td>15.1</td>\n",
              "      <td>28.5</td>\n",
              "      <td>33.0</td>\n",
              "    </tr>\n",
              "  </tbody>\n",
              "</table>\n",
              "</div>\n",
              "      <button class=\"colab-df-convert\" onclick=\"convertToInteractive('df-5fe703cb-79f9-42a7-ac72-34d26f052f61')\"\n",
              "              title=\"Convert this dataframe to an interactive table.\"\n",
              "              style=\"display:none;\">\n",
              "        \n",
              "  <svg xmlns=\"http://www.w3.org/2000/svg\" height=\"24px\"viewBox=\"0 0 24 24\"\n",
              "       width=\"24px\">\n",
              "    <path d=\"M0 0h24v24H0V0z\" fill=\"none\"/>\n",
              "    <path d=\"M18.56 5.44l.94 2.06.94-2.06 2.06-.94-2.06-.94-.94-2.06-.94 2.06-2.06.94zm-11 1L8.5 8.5l.94-2.06 2.06-.94-2.06-.94L8.5 2.5l-.94 2.06-2.06.94zm10 10l.94 2.06.94-2.06 2.06-.94-2.06-.94-.94-2.06-.94 2.06-2.06.94z\"/><path d=\"M17.41 7.96l-1.37-1.37c-.4-.4-.92-.59-1.43-.59-.52 0-1.04.2-1.43.59L10.3 9.45l-7.72 7.72c-.78.78-.78 2.05 0 2.83L4 21.41c.39.39.9.59 1.41.59.51 0 1.02-.2 1.41-.59l7.78-7.78 2.81-2.81c.8-.78.8-2.07 0-2.86zM5.41 20L4 18.59l7.72-7.72 1.47 1.35L5.41 20z\"/>\n",
              "  </svg>\n",
              "      </button>\n",
              "      \n",
              "  <style>\n",
              "    .colab-df-container {\n",
              "      display:flex;\n",
              "      flex-wrap:wrap;\n",
              "      gap: 12px;\n",
              "    }\n",
              "\n",
              "    .colab-df-convert {\n",
              "      background-color: #E8F0FE;\n",
              "      border: none;\n",
              "      border-radius: 50%;\n",
              "      cursor: pointer;\n",
              "      display: none;\n",
              "      fill: #1967D2;\n",
              "      height: 32px;\n",
              "      padding: 0 0 0 0;\n",
              "      width: 32px;\n",
              "    }\n",
              "\n",
              "    .colab-df-convert:hover {\n",
              "      background-color: #E2EBFA;\n",
              "      box-shadow: 0px 1px 2px rgba(60, 64, 67, 0.3), 0px 1px 3px 1px rgba(60, 64, 67, 0.15);\n",
              "      fill: #174EA6;\n",
              "    }\n",
              "\n",
              "    [theme=dark] .colab-df-convert {\n",
              "      background-color: #3B4455;\n",
              "      fill: #D2E3FC;\n",
              "    }\n",
              "\n",
              "    [theme=dark] .colab-df-convert:hover {\n",
              "      background-color: #434B5C;\n",
              "      box-shadow: 0px 1px 3px 1px rgba(0, 0, 0, 0.15);\n",
              "      filter: drop-shadow(0px 1px 2px rgba(0, 0, 0, 0.3));\n",
              "      fill: #FFFFFF;\n",
              "    }\n",
              "  </style>\n",
              "\n",
              "      <script>\n",
              "        const buttonEl =\n",
              "          document.querySelector('#df-5fe703cb-79f9-42a7-ac72-34d26f052f61 button.colab-df-convert');\n",
              "        buttonEl.style.display =\n",
              "          google.colab.kernel.accessAllowed ? 'block' : 'none';\n",
              "\n",
              "        async function convertToInteractive(key) {\n",
              "          const element = document.querySelector('#df-5fe703cb-79f9-42a7-ac72-34d26f052f61');\n",
              "          const dataTable =\n",
              "            await google.colab.kernel.invokeFunction('convertToInteractive',\n",
              "                                                     [key], {});\n",
              "          if (!dataTable) return;\n",
              "\n",
              "          const docLinkHtml = 'Like what you see? Visit the ' +\n",
              "            '<a target=\"_blank\" href=https://colab.research.google.com/notebooks/data_table.ipynb>data table notebook</a>'\n",
              "            + ' to learn more about interactive tables.';\n",
              "          element.innerHTML = '';\n",
              "          dataTable['output_type'] = 'display_data';\n",
              "          await google.colab.output.renderOutput(dataTable, element);\n",
              "          const docLink = document.createElement('div');\n",
              "          docLink.innerHTML = docLinkHtml;\n",
              "          element.appendChild(docLink);\n",
              "        }\n",
              "      </script>\n",
              "    </div>\n",
              "  </div>\n",
              "  "
            ]
          },
          "metadata": {},
          "execution_count": 47
        }
      ]
    },
    {
      "cell_type": "code",
      "source": [
        "df.columns"
      ],
      "metadata": {
        "colab": {
          "base_uri": "https://localhost:8080/"
        },
        "id": "pqV8FJF0E3hQ",
        "outputId": "e4be22f4-f333-4f7d-ef3f-d30f922e6f60"
      },
      "execution_count": null,
      "outputs": [
        {
          "output_type": "execute_result",
          "data": {
            "text/plain": [
              "Index(['Unnamed: 0', 'case', 'site', 'Pop', 'sex', 'age', 'hdlngth', 'skullw',\n",
              "       'totlngth', 'taill', 'footlgth', 'earconch', 'eye', 'chest', 'belly'],\n",
              "      dtype='object')"
            ]
          },
          "metadata": {},
          "execution_count": 40
        }
      ]
    },
    {
      "cell_type": "code",
      "source": [
        "df = df.dropna()"
      ],
      "metadata": {
        "id": "99TQS8k1D0lv"
      },
      "execution_count": null,
      "outputs": []
    },
    {
      "cell_type": "code",
      "source": [
        "df.info()"
      ],
      "metadata": {
        "colab": {
          "base_uri": "https://localhost:8080/"
        },
        "id": "d5D8WzhVEEaW",
        "outputId": "dd87fc70-17e9-44b3-e32b-5bc46852ea77"
      },
      "execution_count": null,
      "outputs": [
        {
          "output_type": "stream",
          "name": "stdout",
          "text": [
            "<class 'pandas.core.frame.DataFrame'>\n",
            "Int64Index: 101 entries, 0 to 103\n",
            "Data columns (total 15 columns):\n",
            " #   Column      Non-Null Count  Dtype  \n",
            "---  ------      --------------  -----  \n",
            " 0   Unnamed: 0  101 non-null    object \n",
            " 1   case        101 non-null    int64  \n",
            " 2   site        101 non-null    int64  \n",
            " 3   Pop         101 non-null    object \n",
            " 4   sex         101 non-null    object \n",
            " 5   age         101 non-null    float64\n",
            " 6   hdlngth     101 non-null    float64\n",
            " 7   skullw      101 non-null    float64\n",
            " 8   totlngth    101 non-null    float64\n",
            " 9   taill       101 non-null    float64\n",
            " 10  footlgth    101 non-null    float64\n",
            " 11  earconch    101 non-null    float64\n",
            " 12  eye         101 non-null    float64\n",
            " 13  chest       101 non-null    float64\n",
            " 14  belly       101 non-null    float64\n",
            "dtypes: float64(10), int64(2), object(3)\n",
            "memory usage: 12.6+ KB\n"
          ]
        }
      ]
    },
    {
      "cell_type": "code",
      "source": [
        "X = df.drop([\"case\", \"site\", \"Pop\", \"sex\", 'Unnamed: 0'], axis=1)\n",
        "y = df[\"sex\"]"
      ],
      "metadata": {
        "id": "nsKR-wscEM0j"
      },
      "execution_count": null,
      "outputs": []
    },
    {
      "cell_type": "code",
      "source": [
        "from sklearn.model_selection import train_test_split\n",
        "X_train, X_test, y_train, y_test = train_test_split(X, y, test_size=0.3)\n",
        "\n",
        "from sklearn.ensemble import RandomForestClassifier\n",
        "rf_model = RandomForestClassifier(n_estimators=50, max_features=\"auto\")\n",
        "rf_model.fit(X_train, y_train)"
      ],
      "metadata": {
        "colab": {
          "base_uri": "https://localhost:8080/"
        },
        "id": "DInQjT-xETAV",
        "outputId": "ae410ec8-895b-4f7a-d106-dc2a3ac16a2a"
      },
      "execution_count": null,
      "outputs": [
        {
          "output_type": "execute_result",
          "data": {
            "text/plain": [
              "RandomForestClassifier(n_estimators=50)"
            ]
          },
          "metadata": {},
          "execution_count": 42
        }
      ]
    },
    {
      "cell_type": "code",
      "source": [
        "y_predict = rf_model.predict(X_test)\n",
        "y_predict"
      ],
      "metadata": {
        "colab": {
          "base_uri": "https://localhost:8080/"
        },
        "id": "w15NgxPMFFqx",
        "outputId": "a7d1d34e-d4e3-49af-df67-2c8f592ae658"
      },
      "execution_count": null,
      "outputs": [
        {
          "output_type": "execute_result",
          "data": {
            "text/plain": [
              "array(['m', 'm', 'f', 'f', 'm', 'f', 'f', 'm', 'f', 'f', 'm', 'm', 'm',\n",
              "       'm', 'm', 'm', 'm', 'f', 'm', 'm', 'm', 'm', 'm', 'm', 'f', 'm',\n",
              "       'm', 'f', 'm', 'f', 'm'], dtype=object)"
            ]
          },
          "metadata": {},
          "execution_count": 43
        }
      ]
    },
    {
      "cell_type": "code",
      "source": [
        "from sklearn.metrics import accuracy_score\n",
        "accuracy_score(y_test, y_predict)"
      ],
      "metadata": {
        "colab": {
          "base_uri": "https://localhost:8080/"
        },
        "id": "liEXfqAJFgiX",
        "outputId": "0d100739-d35e-49ea-f9d6-f3ed25b0997a"
      },
      "execution_count": null,
      "outputs": [
        {
          "output_type": "execute_result",
          "data": {
            "text/plain": [
              "0.4838709677419355"
            ]
          },
          "metadata": {},
          "execution_count": 45
        }
      ]
    }
  ]
}